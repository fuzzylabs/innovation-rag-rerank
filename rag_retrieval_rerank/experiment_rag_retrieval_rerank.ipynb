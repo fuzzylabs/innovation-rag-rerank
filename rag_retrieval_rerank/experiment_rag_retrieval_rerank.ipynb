{
 "cells": [
  {
   "cell_type": "markdown",
   "metadata": {},
   "source": [
    "# RAG Rerank Retrieval Experiment\n",
    "\n",
    "In this experiment, we will experiment with pure document retrieval without reranking, as typically found in Naive RAG systems, and compare it to the improvements achieved by utlilsing reranking. \n",
    "\n",
    "Reranking is a technique that can dramatically optimise our retrieval pipelines and enhance their accuracy. To learn more about how reranking works and the challenges it addresses, visit [this](https://www.notion.so/fuzzylabs/Reranking-04e3f64f27724e51875abd7eb7d97a3c#6f1682a7b243482a8d226f675816851c) notion page.\n",
    "\n",
    "In this example notebook, we will demonstrate how to create retrieval pipelines with reranking using the [BAAI/bge-reranker-large](https://huggingface.co/BAAI/bge-reranker-large) reranker, which has comparable performance to Cohere's paid model, according to Llamaindex.\n",
    "\n",
    "The following components are used:\n",
    "- VectorDB - [Pinecone](https://www.pinecone.io/)\n",
    "- Embedding Model - [jinaai/jina-embeddings-v2-base-en](https://huggingface.co/jinaai/jina-embeddings-v2-base-en)\n",
    "- Reranker - [BAAI/bge-reranker-large](https://huggingface.co/BAAI/bge-reranker-large)\n"
   ]
  },
  {
   "cell_type": "markdown",
   "metadata": {},
   "source": [
    "# Parameters\n",
    "The following parameters are used in the experiment.\n",
    "   \n",
    "`QUERY = \"Who manufactured STM32F429ZIT6U microcontroller?\"`\n",
    "\n",
    "We have chosen the above query to check for specific content within the context and to evaluate improvements after applying reranking to the retrieval results.\n",
    "\n",
    "Specifically, we are looking for following content in the retrieved documents.\n",
    "\n",
    "`In this chapter, many programs were developed using the NUCLEO board, provided with the STM32F429ZIT6U microcontroller. This microcontroller is manufactured by STMicroelectronics [13] using a Cortex-M4 processor designed by Arm Ltd. [14].`"
   ]
  },
  {
   "cell_type": "code",
   "execution_count": 1,
   "metadata": {},
   "outputs": [],
   "source": [
    "######## Parameters #########\n",
    "\n",
    "# Data\n",
    "FILE_PATH = \"data/a_beginners_guide_to_designing_embedded_system_applications_on_arm_cortex-m_microcontrollers.pdf\"\n",
    "CHUNK_SIZE = 1000\n",
    "CHUNK_OVERLAP = 50\n",
    "COLLECTION_NAME = 'experiment_search'\n",
    "BATCH_SIZE = 32\n",
    "\n",
    "# Embedding model\n",
    "EMBEDDING_MODEL = \"jinaai/jina-embeddings-v2-base-en\"\n",
    "\n",
    "# Reranker\n",
    "RERANKER_MODEL = 'BAAI/bge-reranker-large'\n",
    "\n",
    "# Query\n",
    "TOP_K = 3\n",
    "QUERY = \"Who manufactured STM32F429ZIT6U microcontroller?\""
   ]
  },
  {
   "cell_type": "markdown",
   "metadata": {},
   "source": [
    "We want to utilise GPU to speed up computation time if available.\n"
   ]
  },
  {
   "cell_type": "code",
   "execution_count": 2,
   "metadata": {},
   "outputs": [
    {
     "name": "stdout",
     "output_type": "stream",
     "text": [
      "Using device=cpu\n"
     ]
    }
   ],
   "source": [
    "import torch\n",
    "\n",
    "DEVICE = 'cuda:0' if torch.cuda.is_available() else 'cpu'\n",
    "print(f\"Using device={DEVICE}\")"
   ]
  },
  {
   "cell_type": "markdown",
   "metadata": {},
   "source": [
    "# Data Preprocessing\n",
    "> Make sure the pdf data is present in [data](data) folder.\n",
    "\n",
    "In this step, we preprocess the our example PDF data defined by FILE_PATH parameter. This pre-processed data will be added in the vector store.\n",
    "\n",
    "- We use [PyPDFLoader](https://python.langchain.com/v0.1/docs/modules/data_connection/document_loaders/pdf/#using-pypdf) from langchain to read the PDF.\n",
    "- We use [RecursiveCharacterTextSplitter](https://python.langchain.com/v0.1/docs/modules/data_connection/document_transformers/recursive_text_splitter/) from langchain to split the text in small chunks. The parameters `CHUNK_SIZE` and `CHUNK_OVERLAP` configure the chunk size and chunk overlap.\n",
    "> This step takes about 3 mins for a 600 pages PDF document."
   ]
  },
  {
   "cell_type": "code",
   "execution_count": 3,
   "metadata": {},
   "outputs": [
    {
     "name": "stdout",
     "output_type": "stream",
     "text": [
      "CPU times: user 2min 29s, sys: 2.54 s, total: 2min 31s\n",
      "Wall time: 2min 36s\n"
     ]
    }
   ],
   "source": [
    "%%time\n",
    "\n",
    "from data_pipeline import prepare_data\n",
    "from langchain_text_splitters import RecursiveCharacterTextSplitter\n",
    "\n",
    "text_splitter = RecursiveCharacterTextSplitter(\n",
    "    chunk_size=CHUNK_SIZE,\n",
    "    chunk_overlap=CHUNK_OVERLAP,\n",
    "    length_function=len,\n",
    "    is_separator_regex=False,\n",
    ")\n",
    "chunked_texts = prepare_data(FILE_PATH, text_splitter)"
   ]
  },
  {
   "cell_type": "markdown",
   "metadata": {},
   "source": [
    "# Embedding The Data\n",
    "\n",
    "In this step, we will use Jina AI's embedding model to embed all of our texts and create a pandas DataFrame to associate the embeddings with their corresponding texts.\n",
    "\n",
    "> This step is resource intensive and it's much faster on Nvidia GPU.\n",
    ">\n",
    "> It might take around 10-15 mins if running on CPU.\n",
    ">\n",
    "> It calculates the embeddings for entire dataset."
   ]
  },
  {
   "cell_type": "code",
   "execution_count": 4,
   "metadata": {},
   "outputs": [
    {
     "name": "stderr",
     "output_type": "stream",
     "text": [
      "/Users/oscar/Library/Caches/pypoetry/virtualenvs/rag-retrieval-rerank-_oC8k4Cq-py3.10/lib/python3.10/site-packages/sentence_transformers/cross_encoder/CrossEncoder.py:11: TqdmWarning: IProgress not found. Please update jupyter and ipywidgets. See https://ipywidgets.readthedocs.io/en/stable/user_install.html\n",
      "  from tqdm.autonotebook import tqdm, trange\n"
     ]
    },
    {
     "name": "stdout",
     "output_type": "stream",
     "text": [
      "CPU times: user 48min 48s, sys: 3min 10s, total: 51min 59s\n",
      "Wall time: 13min 47s\n"
     ]
    }
   ],
   "source": [
    "%%time\n",
    "\n",
    "from embedding_model import embed_locally\n",
    "\n",
    "text_embeddings = embed_locally(chunked_texts)"
   ]
  },
  {
   "cell_type": "code",
   "execution_count": 5,
   "metadata": {},
   "outputs": [],
   "source": [
    "import pandas as pd\n",
    "\n",
    "data_to_store = pd.DataFrame({'embeddings': text_embeddings})\n",
    "data_to_store['metadata'] = [{'texts': text} for text in chunked_texts]\n",
    "data_to_store.index.name = 'id'\n",
    "data_to_store.reset_index(inplace=True)\n",
    "data_to_store['id'] = data_to_store['id'].astype(str)"
   ]
  },
  {
   "cell_type": "markdown",
   "metadata": {},
   "source": [
    "> We include a metadata column containing the corresponding embedding texts in a dictionary because Pinecone cannot store strings directly and only allows text within the metadata."
   ]
  },
  {
   "cell_type": "code",
   "execution_count": 6,
   "metadata": {},
   "outputs": [
    {
     "data": {
      "text/html": [
       "<div>\n",
       "<style scoped>\n",
       "    .dataframe tbody tr th:only-of-type {\n",
       "        vertical-align: middle;\n",
       "    }\n",
       "\n",
       "    .dataframe tbody tr th {\n",
       "        vertical-align: top;\n",
       "    }\n",
       "\n",
       "    .dataframe thead th {\n",
       "        text-align: right;\n",
       "    }\n",
       "</style>\n",
       "<table border=\"1\" class=\"dataframe\">\n",
       "  <thead>\n",
       "    <tr style=\"text-align: right;\">\n",
       "      <th></th>\n",
       "      <th>id</th>\n",
       "      <th>embeddings</th>\n",
       "      <th>metadata</th>\n",
       "    </tr>\n",
       "  </thead>\n",
       "  <tbody>\n",
       "    <tr>\n",
       "      <th>0</th>\n",
       "      <td>0</td>\n",
       "      <td>[-0.022770140320062637, -0.049992650747299194,...</td>\n",
       "      <td>{'texts': 'A Beginner’s Guide to Designing \n",
       "Em...</td>\n",
       "    </tr>\n",
       "    <tr>\n",
       "      <th>1</th>\n",
       "      <td>1</td>\n",
       "      <td>[-0.04170405492186546, -0.04468979313969612, 0...</td>\n",
       "      <td>{'texts': 'A Beginner’s Guide to  \n",
       "Designing E...</td>\n",
       "    </tr>\n",
       "    <tr>\n",
       "      <th>2</th>\n",
       "      <td>2</td>\n",
       "      <td>[-0.036007110029459, -0.06197873130440712, 0.0...</td>\n",
       "      <td>{'texts': 'A Beginner’s Guide to  Designing \n",
       "E...</td>\n",
       "    </tr>\n",
       "    <tr>\n",
       "      <th>3</th>\n",
       "      <td>3</td>\n",
       "      <td>[-0.028807535767555237, -0.03928277641534805, ...</td>\n",
       "      <td>{'texts': 'Arm Education Media is an imprint o...</td>\n",
       "    </tr>\n",
       "    <tr>\n",
       "      <th>4</th>\n",
       "      <td>4</td>\n",
       "      <td>[-0.012164550833404064, -0.04263245314359665, ...</td>\n",
       "      <td>{'texts': 'book.\n",
       "Notices\n",
       "Knowledge and best pr...</td>\n",
       "    </tr>\n",
       "    <tr>\n",
       "      <th>...</th>\n",
       "      <td>...</td>\n",
       "      <td>...</td>\n",
       "      <td>...</td>\n",
       "    </tr>\n",
       "    <tr>\n",
       "      <th>1630</th>\n",
       "      <td>1630</td>\n",
       "      <td>[-0.04276715964078903, -0.048491425812244415, ...</td>\n",
       "      <td>{'texts': 'ISBN 978-1911531-16-6 \n",
       "Operating Sy...</td>\n",
       "    </tr>\n",
       "    <tr>\n",
       "      <th>1631</th>\n",
       "      <td>1631</td>\n",
       "      <td>[-0.03923221305012703, -0.051492903381586075, ...</td>\n",
       "      <td>{'texts': 'A Beginner’s Guide to Designing \n",
       "Em...</td>\n",
       "    </tr>\n",
       "    <tr>\n",
       "      <th>1632</th>\n",
       "      <td>1632</td>\n",
       "      <td>[-0.04426056891679764, -0.06682316213846207, 0...</td>\n",
       "      <td>{'texts': 'align with a typical twelve-week se...</td>\n",
       "    </tr>\n",
       "    <tr>\n",
       "      <th>1633</th>\n",
       "      <td>1633</td>\n",
       "      <td>[-0.052978359162807465, -0.04494466632604599, ...</td>\n",
       "      <td>{'texts': 'Arm Education Media is a publishing...</td>\n",
       "    </tr>\n",
       "    <tr>\n",
       "      <th>1634</th>\n",
       "      <td>1634</td>\n",
       "      <td>[-0.03897389397025108, 0.0006498997681774199, ...</td>\n",
       "      <td>{'texts': 'Journal, published by the School of...</td>\n",
       "    </tr>\n",
       "  </tbody>\n",
       "</table>\n",
       "<p>1635 rows × 3 columns</p>\n",
       "</div>"
      ],
      "text/plain": [
       "        id                                         embeddings  \\\n",
       "0        0  [-0.022770140320062637, -0.049992650747299194,...   \n",
       "1        1  [-0.04170405492186546, -0.04468979313969612, 0...   \n",
       "2        2  [-0.036007110029459, -0.06197873130440712, 0.0...   \n",
       "3        3  [-0.028807535767555237, -0.03928277641534805, ...   \n",
       "4        4  [-0.012164550833404064, -0.04263245314359665, ...   \n",
       "...    ...                                                ...   \n",
       "1630  1630  [-0.04276715964078903, -0.048491425812244415, ...   \n",
       "1631  1631  [-0.03923221305012703, -0.051492903381586075, ...   \n",
       "1632  1632  [-0.04426056891679764, -0.06682316213846207, 0...   \n",
       "1633  1633  [-0.052978359162807465, -0.04494466632604599, ...   \n",
       "1634  1634  [-0.03897389397025108, 0.0006498997681774199, ...   \n",
       "\n",
       "                                               metadata  \n",
       "0     {'texts': 'A Beginner’s Guide to Designing \n",
       "Em...  \n",
       "1     {'texts': 'A Beginner’s Guide to  \n",
       "Designing E...  \n",
       "2     {'texts': 'A Beginner’s Guide to  Designing \n",
       "E...  \n",
       "3     {'texts': 'Arm Education Media is an imprint o...  \n",
       "4     {'texts': 'book.\n",
       "Notices\n",
       "Knowledge and best pr...  \n",
       "...                                                 ...  \n",
       "1630  {'texts': 'ISBN 978-1911531-16-6 \n",
       "Operating Sy...  \n",
       "1631  {'texts': 'A Beginner’s Guide to Designing \n",
       "Em...  \n",
       "1632  {'texts': 'align with a typical twelve-week se...  \n",
       "1633  {'texts': 'Arm Education Media is a publishing...  \n",
       "1634  {'texts': 'Journal, published by the School of...  \n",
       "\n",
       "[1635 rows x 3 columns]"
      ]
     },
     "execution_count": 6,
     "metadata": {},
     "output_type": "execute_result"
    }
   ],
   "source": [
    "data_to_store"
   ]
  },
  {
   "cell_type": "markdown",
   "metadata": {},
   "source": [
    "# Create Vector Database with Pinecone\n",
    "\n",
    "\n",
    "Now we create our vector DB to store our vectors. For this we need to get a [free Pinecone API key](https://app.pinecone.io/) — the API key can be found in the \"API Keys\" button found in the left navbar of the Pinecone dashboard."
   ]
  },
  {
   "cell_type": "code",
   "execution_count": 7,
   "metadata": {},
   "outputs": [],
   "source": [
    "from pinecone import Pinecone, ServerlessSpec\n",
    "import time\n",
    "import getpass\n",
    "\n",
    "# initialise connection to pinecone (get API key at app.pinecone.io)\n",
    "api_key = getpass.getpass()\n",
    "\n",
    "# configure client\n",
    "pc = Pinecone(api_key=api_key)"
   ]
  },
  {
   "cell_type": "markdown",
   "metadata": {},
   "source": [
    "> An \"Index\" is a database in Pinecone."
   ]
  },
  {
   "cell_type": "code",
   "execution_count": 8,
   "metadata": {},
   "outputs": [
    {
     "data": {
      "text/plain": [
       "{'dimension': 768,\n",
       " 'index_fullness': 0.0,\n",
       " 'namespaces': {},\n",
       " 'total_vector_count': 0}"
      ]
     },
     "execution_count": 8,
     "metadata": {},
     "output_type": "execute_result"
    }
   ],
   "source": [
    "index_name = \"rerankers\"\n",
    "existing_indexes = [\n",
    "    index_info[\"name\"] for index_info in pc.list_indexes()\n",
    "]\n",
    "\n",
    "# check if index already exists (it shouldn't if this is first time)\n",
    "if index_name not in existing_indexes:\n",
    "    # if does not exist, create index\n",
    "    pc.create_index(\n",
    "        index_name,\n",
    "        dimension=768,  # embedding dimensionality of jina-embeddings-v2-base\n",
    "        metric='cosine',\n",
    "        spec=ServerlessSpec(\n",
    "            cloud=\"aws\", region=\"us-east-1\"\n",
    "        )\n",
    "    )\n",
    "    # wait for index to be initialized\n",
    "    while not pc.describe_index(index_name).status['ready']:\n",
    "        time.sleep(1)\n",
    "\n",
    "# connect to index\n",
    "index = pc.Index(index_name)\n",
    "# view index stats\n",
    "index.describe_index_stats()"
   ]
  },
  {
   "cell_type": "markdown",
   "metadata": {},
   "source": [
    "# Data Ingestion\n",
    "\n",
    "In this step, we store the embeddings and chunked texts in the Pinecone database we just created."
   ]
  },
  {
   "cell_type": "code",
   "execution_count": 9,
   "metadata": {},
   "outputs": [
    {
     "name": "stderr",
     "output_type": "stream",
     "text": [
      "100%|██████████| 17/17 [00:10<00:00,  1.62it/s]\n"
     ]
    }
   ],
   "source": [
    "from tqdm.auto import tqdm\n",
    "\n",
    "batch_size = 100  # how many embeddings we create and insert at once\n",
    "\n",
    "for i in tqdm(range(0, len(data_to_store), batch_size)):\n",
    "    passed = False\n",
    "    # find end of batch\n",
    "    i_end = min(len(data_to_store), i+batch_size)\n",
    "    # create batch\n",
    "    batch = data_to_store[i:i_end]\n",
    "    to_upsert = list(zip(batch[\"id\"], batch[\"embeddings\"], batch[\"metadata\"]))\n",
    "\n",
    "    # upsert to Pinecone\n",
    "    index.upsert(vectors=to_upsert)"
   ]
  },
  {
   "cell_type": "markdown",
   "metadata": {},
   "source": [
    "# Document Retrieval\n",
    "\n",
    "Now that we have our chunked texts and their embeddings stored in the database, we can retrieve them from Pinecone by calling the query function. The steps are as follows:\n",
    "\n",
    "1. Embed our query.\n",
    "2. Call the query function on the Pinecone index object.\n",
    "3. Return the text from the result."
   ]
  },
  {
   "cell_type": "code",
   "execution_count": 10,
   "metadata": {},
   "outputs": [],
   "source": [
    "def get_closest_texts(query: str, top_k: int) -> list[tuple[str, float]]:\n",
    "    # encode query\n",
    "    encoded_query = embed_locally([query])\n",
    "    # search Pinecone index\n",
    "    res = index.query(vector=encoded_query[0], top_k=top_k, include_metadata=True)\n",
    "    # get doc text\n",
    "    closest_texts = [(match[\"metadata\"]['texts'], match[\"score\"]) for match in res[\"matches\"]]\n",
    "    return closest_texts"
   ]
  },
  {
   "cell_type": "markdown",
   "metadata": {},
   "source": [
    "# Retrieval With No Reranking (Naive RAG Retrieval)\n",
    "\n",
    "This is the most common approach for retrieving semantically similar documents to the query with, these embeddings are also known as dense vector. The dense vector captures the semantic meaning of the text using the embedding model.\n",
    "\n",
    "The query vector is matched against all the entries in the database to find closest neighbors to the search query using a distance metric, in this case, the cosine distance.\n",
    "\n",
    "Typically, we will look for the 3 closest documents in the database. These 3 documents will be pass to a LLM to be used as contexts to generate a response."
   ]
  },
  {
   "cell_type": "code",
   "execution_count": 11,
   "metadata": {},
   "outputs": [],
   "source": [
    "three_closest_texts = get_closest_texts(query=QUERY, top_k=3)"
   ]
  },
  {
   "cell_type": "code",
   "execution_count": 12,
   "metadata": {},
   "outputs": [
    {
     "data": {
      "text/html": [
       "<div>\n",
       "<style scoped>\n",
       "    .dataframe tbody tr th:only-of-type {\n",
       "        vertical-align: middle;\n",
       "    }\n",
       "\n",
       "    .dataframe tbody tr th {\n",
       "        vertical-align: top;\n",
       "    }\n",
       "\n",
       "    .dataframe thead th {\n",
       "        text-align: right;\n",
       "    }\n",
       "</style>\n",
       "<table border=\"1\" class=\"dataframe\">\n",
       "  <thead>\n",
       "    <tr style=\"text-align: right;\">\n",
       "      <th></th>\n",
       "      <th>Retrieved Document</th>\n",
       "      <th>Score</th>\n",
       "    </tr>\n",
       "  </thead>\n",
       "  <tbody>\n",
       "    <tr>\n",
       "      <th>0</th>\n",
       "      <td>Index\\n567 STM 32F429 ZIT 6U microcontroller 5, 33, 37, 38 \\n stop bit 46, 64, 65, 80, 256 , 257 , 273 , 468  \\n ST Zio connectors xiv, 6, 9, 37, 38, 44, 346  \\n superloop 13, 519  \\n synchronous communication 255\\nT TCP server 456 , 457 , 459 , 460 –463 , 491  \\n temperature sensor 4, 5, 87, 106 , 123 , 182 , 220 , 233 , 334 , 486 , 550  \\n time management xvi, 86, 95, 99, 289 , 342 , 348 , 353  \\n timers xvi, xxvii, 37, 306 , 342 , 343 , 345 , 348 –350 , 353 , 354 , \\n 361 , 441 , 512 –517 , 533 , 535 , 537 , 538 , 539  \\n tm structure 153  \\n TO- 220  package 89\\nU UART xvi, xvii, 5, 44, 61, 63, 79, 82, 84, 86, 181 , 191 , 222 , 255 , 290 , 291 , \\n 306 , 350 , 420 , 423 , 447 , 455 , 461 , 465 , 468 , 544  \\n USB xiv, xxvii, 4, 9, 37, 44, 45, 63, 79, 82, 88, 132 , 449 , 506 , 507 , 508 , 544  \\n USB connection xiv, 44, 506  \\n use cases 497 , 501 –504 , 511 , 545 , 546 , 547 , 548\\nV validation 496 , 497 , 546 , 547  \\n verification 81, 92, 496 , 497 , 546  \\n vineyard frost prevention 123 , 124</td>\n",
       "      <td>0.824475</td>\n",
       "    </tr>\n",
       "    <tr>\n",
       "      <th>1</th>\n",
       "      <td>Chapter 1 | Introduction to Embedded Systems \\n37The STM32F429ZIT6U microcontroller includes a Cortex-M4 processor , as shown in Figure 1.22. It \\ncan be appreciated that, beyond the processor, the microcontroller includes other peripherals such as \\ncommunication cores (ethernet, USB, UART, etc.), memory, timers, and GPIO (General Purpose Input Output) ports. \\nNUCLEO\\n-F429ZI32F429ZIT6U\\nARM7B776 VQ\\nPHL 7B 7213e412000K620 Y12000\\nK620 Y\\n120 00K620 YDGKYD\\nKMS-1 102NL1706C\\nSTM32F103CBT6\\ne393701GH218CHN\\nST890C\\nGK717\\n11\\n22\\n33\\n44\\n55\\n66\\n77\\n88\\n9\\n10\\n11\\n12\\n13\\n14\\n15PH_0\\nPD_0\\nPD_1\\nPG_0PH_1PF_2PA_7PF_10PF_5PF_3PC_3PC_030\\n29\\n28\\n27\\n2616\\n2515\\n2414\\n2313\\n2212\\n2111\\n2010\\n199\\n18\\n17\\n165V\\nVIN3.3VIOREF\\nGND\\nGNDGND\\nNCNC\\nUART2_RX\\nCAN1_TDCAN1_ DRADC1/7ADC1/3\\nADC1/10\\nADC1/13\\nADC3/9\\nADC3/15\\nADC3/8\\nADC3/5NRSTPC_8\\nPC_9\\nPC_10\\nPC_11\\nPC_12\\nPD_2\\nPG_2\\nPG_3\\nGNDPD_7\\nPD_6\\nPD_5\\nPD_4\\nPD_3\\nPE_2\\nPE_4\\nPE_3\\nPF_7\\nPG_1UART2_RX\\nUART2_ XT\\nUART_X7TUART2_RTS\\nUART2_CTSUART3_TX\\nUART3_RX\\nUART5_TX\\nUART5_RX\\nPA_3\\nSPI1_MOSISPI3_SCK\\nSPI2_SCK</td>\n",
       "      <td>0.808997</td>\n",
       "    </tr>\n",
       "    <tr>\n",
       "      <th>2</th>\n",
       "      <td>USAR Tn\\nbxCANnsmcard\\nirDA\\nFIFODigital\\nﬁlter\\nDACnAPB1 45 MHz (max)AHB1 180 MHzAHB3\\nVDD = 1.8 to 3.6V\\nVSS\\nVCAP1, VCAP2APB2 90 MHzART\\nACCEL/CACHE\\nGPIO POR TtOSC32_I N\\nOSC32_OUTDMA2USB\\nOTG HS\\n8 Streams\\nFIFODMA/\\nFIFO PHY\\nCHROM-AR T\\nDMA2DFIFO\\nFIFO8 Streams\\nFIFODMA1\\nLCD_R[7:0], LCD_G[7:0] ,\\nLCD_B[7:0], LCD_HSYNC,\\nLCD_VSYNC, LCD_DE,\\nLCD_CLKLCD-TFTDMA/\\nFIFO\\nRTC_AF1\\nRTC_AF1\\nRTC 50Hz\\n4KB BXPSRAMLS@ VBAT\\nRTC\\nAWU\\nBackup registerXTAL32 KHz\\nLSStandby\\ninterfaceIWDGXTALOSC 4-26 MHzPOR\\nreset\\nInt\\n@ VDDA @ VDDPVDPOR/PDR BORSupply\\nsupervision@ VDDVDD\\nVoltage regulator\\n3.3 to 1.2VPower\\nmanagement\\nPLL1, 2, 3RC    LSRC    HS@ VDDA\\nReset\\n&amp; clock\\ncontrol\\nFigure 1.22 STM32F429ZI block diagram made using information available from [9].</td>\n",
       "      <td>0.807932</td>\n",
       "    </tr>\n",
       "  </tbody>\n",
       "</table>\n",
       "</div>"
      ],
      "text/plain": [
       "                                                                                                                                                                                                                                                                                                                                                                                                                                                                                                                                                                                                                                                                                                                                                                                                                                                                                                                                                                                                                                                                                                      Retrieved Document  \\\n",
       "0                                                                 Index\\n567 STM 32F429 ZIT 6U microcontroller 5, 33, 37, 38 \\n stop bit 46, 64, 65, 80, 256 , 257 , 273 , 468  \\n ST Zio connectors xiv, 6, 9, 37, 38, 44, 346  \\n superloop 13, 519  \\n synchronous communication 255\\nT TCP server 456 , 457 , 459 , 460 –463 , 491  \\n temperature sensor 4, 5, 87, 106 , 123 , 182 , 220 , 233 , 334 , 486 , 550  \\n time management xvi, 86, 95, 99, 289 , 342 , 348 , 353  \\n timers xvi, xxvii, 37, 306 , 342 , 343 , 345 , 348 –350 , 353 , 354 , \\n 361 , 441 , 512 –517 , 533 , 535 , 537 , 538 , 539  \\n tm structure 153  \\n TO- 220  package 89\\nU UART xvi, xvii, 5, 44, 61, 63, 79, 82, 84, 86, 181 , 191 , 222 , 255 , 290 , 291 , \\n 306 , 350 , 420 , 423 , 447 , 455 , 461 , 465 , 468 , 544  \\n USB xiv, xxvii, 4, 9, 37, 44, 45, 63, 79, 82, 88, 132 , 449 , 506 , 507 , 508 , 544  \\n USB connection xiv, 44, 506  \\n use cases 497 , 501 –504 , 511 , 545 , 546 , 547 , 548\\nV validation 496 , 497 , 546 , 547  \\n verification 81, 92, 496 , 497 , 546  \\n vineyard frost prevention 123 , 124   \n",
       "1  Chapter 1 | Introduction to Embedded Systems \\n37The STM32F429ZIT6U microcontroller includes a Cortex-M4 processor , as shown in Figure 1.22. It \\ncan be appreciated that, beyond the processor, the microcontroller includes other peripherals such as \\ncommunication cores (ethernet, USB, UART, etc.), memory, timers, and GPIO (General Purpose Input Output) ports. \\nNUCLEO\\n-F429ZI32F429ZIT6U\\nARM7B776 VQ\\nPHL 7B 7213e412000K620 Y12000\\nK620 Y\\n120 00K620 YDGKYD\\nKMS-1 102NL1706C\\nSTM32F103CBT6\\ne393701GH218CHN\\nST890C\\nGK717\\n11\\n22\\n33\\n44\\n55\\n66\\n77\\n88\\n9\\n10\\n11\\n12\\n13\\n14\\n15PH_0\\nPD_0\\nPD_1\\nPG_0PH_1PF_2PA_7PF_10PF_5PF_3PC_3PC_030\\n29\\n28\\n27\\n2616\\n2515\\n2414\\n2313\\n2212\\n2111\\n2010\\n199\\n18\\n17\\n165V\\nVIN3.3VIOREF\\nGND\\nGNDGND\\nNCNC\\nUART2_RX\\nCAN1_TDCAN1_ DRADC1/7ADC1/3\\nADC1/10\\nADC1/13\\nADC3/9\\nADC3/15\\nADC3/8\\nADC3/5NRSTPC_8\\nPC_9\\nPC_10\\nPC_11\\nPC_12\\nPD_2\\nPG_2\\nPG_3\\nGNDPD_7\\nPD_6\\nPD_5\\nPD_4\\nPD_3\\nPE_2\\nPE_4\\nPE_3\\nPF_7\\nPG_1UART2_RX\\nUART2_ XT\\nUART_X7TUART2_RTS\\nUART2_CTSUART3_TX\\nUART3_RX\\nUART5_TX\\nUART5_RX\\nPA_3\\nSPI1_MOSISPI3_SCK\\nSPI2_SCK   \n",
       "2                                                                                                                                                                                                                                                                                                                             USAR Tn\\nbxCANnsmcard\\nirDA\\nFIFODigital\\nﬁlter\\nDACnAPB1 45 MHz (max)AHB1 180 MHzAHB3\\nVDD = 1.8 to 3.6V\\nVSS\\nVCAP1, VCAP2APB2 90 MHzART\\nACCEL/CACHE\\nGPIO POR TtOSC32_I N\\nOSC32_OUTDMA2USB\\nOTG HS\\n8 Streams\\nFIFODMA/\\nFIFO PHY\\nCHROM-AR T\\nDMA2DFIFO\\nFIFO8 Streams\\nFIFODMA1\\nLCD_R[7:0], LCD_G[7:0] ,\\nLCD_B[7:0], LCD_HSYNC,\\nLCD_VSYNC, LCD_DE,\\nLCD_CLKLCD-TFTDMA/\\nFIFO\\nRTC_AF1\\nRTC_AF1\\nRTC 50Hz\\n4KB BXPSRAMLS@ VBAT\\nRTC\\nAWU\\nBackup registerXTAL32 KHz\\nLSStandby\\ninterfaceIWDGXTALOSC 4-26 MHzPOR\\nreset\\nInt\\n@ VDDA @ VDDPVDPOR/PDR BORSupply\\nsupervision@ VDDVDD\\nVoltage regulator\\n3.3 to 1.2VPower\\nmanagement\\nPLL1, 2, 3RC    LSRC    HS@ VDDA\\nReset\\n& clock\\ncontrol\\nFigure 1.22 STM32F429ZI block diagram made using information available from [9].   \n",
       "\n",
       "      Score  \n",
       "0  0.824475  \n",
       "1  0.808997  \n",
       "2  0.807932  "
      ]
     },
     "execution_count": 12,
     "metadata": {},
     "output_type": "execute_result"
    }
   ],
   "source": [
    "pd.set_option('display.max_colwidth', None)\n",
    "three_closest_texts_df = pd.DataFrame(three_closest_texts, columns=[\"Retrieved Document\", \"Score\"])\n",
    "three_closest_texts_df"
   ]
  },
  {
   "cell_type": "markdown",
   "metadata": {},
   "source": [
    "### Result\n",
    "The goal here is to verify if following context is present in any of the retrieved documents.\n",
    "\n",
    "> In this chapter, many programs were developed using the NUCLEO board, provided with the STM32F429ZIT6U microcontroller. This microcontroller is manufactured by STMicroelectronics [13] using a Cortex-M4 processor designed by Arm Ltd. [14].\n",
    "\n",
    "If it is present then our retrieval approach was able to find the correct document from the vector store.\n",
    "> It is not present in the any of retrieved documents."
   ]
  },
  {
   "cell_type": "markdown",
   "metadata": {},
   "source": [
    "# Retrieval With Reranking\n",
    "\n",
    "To convert texts into vectors, we are essentially compressing the \"meaning\" of the text into n-dimensional vectors. This compression results in some loss of information.\n",
    "\n",
    "Due to this information loss, the top three documents (for example) retrieved by a vector search may miss relevant details, which might fall below our top_k cutoff and not be returned, as demonstrated in the example above.\n",
    "\n",
    "Reranking addresses this issue by retrieving a larger initial set of documents from the database. A reranker then reorders these documents, retaining only the most relevant ones for our LLM.\n",
    "\n",
    "For a deeper understanding of how reranking works and the challenges it addresses, see [this](https://www.notion.so/fuzzylabs/Reranking-04e3f64f27724e51875abd7eb7d97a3c#6f1682a7b243482a8d226f675816851c) Notion page."
   ]
  },
  {
   "cell_type": "code",
   "execution_count": 13,
   "metadata": {},
   "outputs": [],
   "source": [
    "from FlagEmbedding import FlagReranker\n",
    "reranker = FlagReranker('BAAI/bge-reranker-large', use_fp16=True) # Setting use_fp16 to True speeds up computation with a slight performance degradation\n",
    "\n",
    "\n",
    "def get_top_3_texts_from_rerank_scores(scores: list[float], closest_texts: list[str], top_k: int) -> list[str]:\n",
    "    top_k_indices = sorted(range(len(scores)), key=lambda i: scores[i], reverse=True)[:top_k]\n",
    "    return [closest_texts[i] for i in top_k_indices]\n"
   ]
  },
  {
   "cell_type": "code",
   "execution_count": 14,
   "metadata": {},
   "outputs": [],
   "source": [
    "# The bge reranker takes a list of list as input\n",
    "\n",
    "twenty_five_closest_texts = get_closest_texts(query=\"Who manufactured STM32F429ZIT6U microcontroller?\", top_k=25)\n",
    "texts_to_rerank = [[QUERY,doc[0]] for doc in twenty_five_closest_texts]"
   ]
  },
  {
   "cell_type": "markdown",
   "metadata": {},
   "source": [
    "### Reranker Scores\n",
    "\n",
    "Below are the scores which represent the similarly between our query and the retrieved texts from our vector database. The higher the score, the more relevant the document is to our query."
   ]
  },
  {
   "cell_type": "code",
   "execution_count": 15,
   "metadata": {},
   "outputs": [
    {
     "name": "stdout",
     "output_type": "stream",
     "text": [
      "[0.28374725580215454, -0.6582016348838806, -3.9359004497528076, -6.078181266784668, -5.264961242675781, 4.998556613922119, -5.124876022338867, -1.5439904928207397, -0.9592869877815247, -7.042023658752441, -5.507993221282959, -8.35011100769043, -7.134540557861328, -9.436647415161133, -7.423570156097412, 0.23653705418109894, -8.951774597167969, -5.671559810638428, -6.971182346343994, -7.249991416931152, -9.102521896362305, -2.066066265106201, -7.483180046081543, -7.791862964630127, -5.368914604187012]\n"
     ]
    }
   ],
   "source": [
    "scores = reranker.compute_score(texts_to_rerank)\n",
    "print(scores)"
   ]
  },
  {
   "cell_type": "markdown",
   "metadata": {},
   "source": [
    "### Result\n",
    "\n",
    "The goal here is to verify if following context is present in any of the retrieved documents.\n",
    "\n",
    "> In this chapter, many programs were developed using the NUCLEO board, provided with the STM32F429ZIT6U microcontroller. This microcontroller is manufactured by STMicroelectronics [13] using a Cortex-M4 processor designed by Arm Ltd. [14].\n",
    "\n",
    "If it is present then our retrieval approach was able to find the correct document from the vector store.\n",
    "\n",
    "> It is present in the second row of Retrieved text in the first result as shown below."
   ]
  },
  {
   "cell_type": "code",
   "execution_count": 16,
   "metadata": {},
   "outputs": [
    {
     "data": {
      "text/plain": [
       "[('Chapter 1 | Introduction to Embedded Systems \\n33Proposed Exercise\\n1. How can the code be changed in such a way that the system is blocked after three incorrect codes \\nare entered?\\nAnswer to the Exercise\\n1. It can be achieved by means of the change in T able\\xa01.11.\\nT able\\xa01.11 Proposed modification in the code in order to achieve the new behavior.\\nLine in Code\\xa01.5 New code to be used\\n40 if ( numberOfIncorrectCodes < 5 ) 40 if ( numberOfIncorrectCodes < 3 )\\n1.3 Under the Hood\\n1.3.1 Brief Introduction to the Cortex-M Processor  Family and the NUCLEO Board\\nIn this chapter, many programs were developed using the NUCLEO board, provided with the \\nSTM32F429ZIT6U microcontroller . This microcontroller is manufactured by STMicroelectronics [13]',\n",
       "  0.786926866),\n",
       " ('Index\\n567 STM 32F429 ZIT 6U microcontroller 5, 33, 37, 38 \\n stop bit 46, 64, 65, 80, 256 , 257 , 273 , 468  \\n ST Zio connectors xiv, 6, 9, 37, 38, 44, 346  \\n superloop 13, 519  \\n synchronous communication 255\\nT TCP server 456 , 457 , 459 , 460 –463 , 491  \\n temperature sensor 4, 5, 87, 106 , 123 , 182 , 220 , 233 , 334 , 486 , 550  \\n time management xvi, 86, 95, 99, 289 , 342 , 348 , 353  \\n timers xvi, xxvii, 37, 306 , 342 , 343 , 345 , 348 –350 , 353 , 354 , \\n 361 , 441 , 512 –517 , 533 , 535 , 537 , 538 , 539  \\n tm structure 153  \\n TO- 220  package 89\\nU UART xvi, xvii, 5, 44, 61, 63, 79, 82, 84, 86, 181 , 191 , 222 , 255 , 290 , 291 , \\n 306 , 350 , 420 , 423 , 447 , 455 , 461 , 465 , 468 , 544  \\n USB xiv, xxvii, 4, 9, 37, 44, 45, 63, 79, 82, 88, 132 , 449 , 506 , 507 , 508 , 544  \\n USB connection xiv, 44, 506  \\n use cases 497 , 501 –504 , 511 , 545 , 546 , 547 , 548\\nV validation 496 , 497 , 546 , 547  \\n verification 81, 92, 496 , 497 , 546  \\n vineyard frost prevention 123 , 124',\n",
       "  0.824474633),\n",
       " ('346\\nA Beginner’s Guide to Designing Embedded System ApplicationsNUCLEO\\n-F429ZI32F429ZIT6U\\nARM7B776 VQ\\nPHL 7B 7213e412000K620 Y12000\\nK620 Y\\n120 00K620 YDGKYD\\nKMS-1 102NL1706C\\nSTM32F103CBT6\\ne393701GH218CHN\\nST890C\\nGK717\\n11\\n22\\n33\\n44\\n55\\n66\\n77\\n88\\n9\\n10\\n11\\n12\\n13\\n14\\n15PH_0\\nPD_0\\nPD_1\\nPG_0PH_1PF_2PA_7PF_10PF_5PF_3PC_3PC_030\\n29\\n28\\n27\\n2616\\n2515\\n2414\\n2313\\n2212\\n2111\\n2010\\n199\\n18\\n17\\n165V\\nVIN3.3VIOREF\\nGND\\nGNDGND\\nNCNC\\nUART2_RX\\nCAN1_TDCAN1_ DRADC1/7ADC1/3\\nADC1/10\\nADC1/13\\nADC3/9\\nADC3/15\\nADC3/8\\nADC3/5NRSTPC_8\\nPC_9\\nPC_10\\nPC_11\\nPC_12\\nPD_2\\nPG_2\\nPG_3\\nGNDPD_7\\nPD_6\\nPD_5\\nPD_4\\nPD_3\\nPE_2\\nPE_4\\nPE_3\\nPF_7\\nPG_1UART2_RX\\nUART2_ XT\\nUART_X7TUART2_RTS\\nUART2_CTSUART3_TX\\nUART3_RX\\nUART5_TX\\nUART5_RX\\nPA_3\\nSPI1_MOSISPI3_SCK\\nSPI2_SCK\\nSPI4_SCK\\nSPI5_SCKSPI4_CSSPI3_MISO\\nSPI3_MOSI\\nSPI3_MOSI\\nSPI2_MOSI\\nPWM1/1NPWM2/4\\nPWM11/1PWM3/3\\nI2C3_SDA PWM3/4\\nA0\\nA1\\nA2\\nA3\\nA4\\nA5\\nADC3/6 PF_8 SPI5_MISO PWM /131\\nADC3/7 PF_9 SPI5_MOSI PWM /141PE_6 SPI4_MOSI PWM /29PE_5 SPI4_MISO PWM /91\\nUART _TX6\\nUART_X6R\\nUART_X1T\\nUART _RTS3\\nUART _CTS3\\nUART_X4T',\n",
       "  0.773964405)]"
      ]
     },
     "execution_count": 16,
     "metadata": {},
     "output_type": "execute_result"
    }
   ],
   "source": [
    "get_top_3_texts_from_rerank_scores(scores, twenty_five_closest_texts, top_k=3)"
   ]
  },
  {
   "cell_type": "markdown",
   "metadata": {},
   "source": [
    "We can also visualise the relevance score for all 25 texts we have retrieved.\n",
    "\n",
    "The reranker is optimised based cross-entropy loss, so the relevance score is not bounded to a specific range."
   ]
  },
  {
   "cell_type": "code",
   "execution_count": 17,
   "metadata": {},
   "outputs": [],
   "source": [
    "scores_for_all_25_documents = pd.DataFrame({\"Received Texts\": twenty_five_closest_texts, \"Score\": scores})"
   ]
  },
  {
   "cell_type": "code",
   "execution_count": 18,
   "metadata": {},
   "outputs": [
    {
     "data": {
      "text/html": [
       "<div>\n",
       "<style scoped>\n",
       "    .dataframe tbody tr th:only-of-type {\n",
       "        vertical-align: middle;\n",
       "    }\n",
       "\n",
       "    .dataframe tbody tr th {\n",
       "        vertical-align: top;\n",
       "    }\n",
       "\n",
       "    .dataframe thead th {\n",
       "        text-align: right;\n",
       "    }\n",
       "</style>\n",
       "<table border=\"1\" class=\"dataframe\">\n",
       "  <thead>\n",
       "    <tr style=\"text-align: right;\">\n",
       "      <th></th>\n",
       "      <th>Received Texts</th>\n",
       "      <th>Score</th>\n",
       "    </tr>\n",
       "  </thead>\n",
       "  <tbody>\n",
       "    <tr>\n",
       "      <th>5</th>\n",
       "      <td>(Chapter 1 | Introduction to Embedded Systems \\n33Proposed Exercise\\n1. How can the code be changed in such a way that the system is blocked after three incorrect codes \\nare entered?\\nAnswer to the Exercise\\n1. It can be achieved by means of the change in T able 1.11.\\nT able 1.11 Proposed modification in the code in order to achieve the new behavior.\\nLine in Code 1.5 New code to be used\\n40 if ( numberOfIncorrectCodes &lt; 5 ) 40 if ( numberOfIncorrectCodes &lt; 3 )\\n1.3 Under the Hood\\n1.3.1 Brief Introduction to the Cortex-M Processor  Family and the NUCLEO Board\\nIn this chapter, many programs were developed using the NUCLEO board, provided with the \\nSTM32F429ZIT6U microcontroller . This microcontroller is manufactured by STMicroelectronics [13], 0.786926866)</td>\n",
       "      <td>4.998557</td>\n",
       "    </tr>\n",
       "    <tr>\n",
       "      <th>0</th>\n",
       "      <td>(Index\\n567 STM 32F429 ZIT 6U microcontroller 5, 33, 37, 38 \\n stop bit 46, 64, 65, 80, 256 , 257 , 273 , 468  \\n ST Zio connectors xiv, 6, 9, 37, 38, 44, 346  \\n superloop 13, 519  \\n synchronous communication 255\\nT TCP server 456 , 457 , 459 , 460 –463 , 491  \\n temperature sensor 4, 5, 87, 106 , 123 , 182 , 220 , 233 , 334 , 486 , 550  \\n time management xvi, 86, 95, 99, 289 , 342 , 348 , 353  \\n timers xvi, xxvii, 37, 306 , 342 , 343 , 345 , 348 –350 , 353 , 354 , \\n 361 , 441 , 512 –517 , 533 , 535 , 537 , 538 , 539  \\n tm structure 153  \\n TO- 220  package 89\\nU UART xvi, xvii, 5, 44, 61, 63, 79, 82, 84, 86, 181 , 191 , 222 , 255 , 290 , 291 , \\n 306 , 350 , 420 , 423 , 447 , 455 , 461 , 465 , 468 , 544  \\n USB xiv, xxvii, 4, 9, 37, 44, 45, 63, 79, 82, 88, 132 , 449 , 506 , 507 , 508 , 544  \\n USB connection xiv, 44, 506  \\n use cases 497 , 501 –504 , 511 , 545 , 546 , 547 , 548\\nV validation 496 , 497 , 546 , 547  \\n verification 81, 92, 496 , 497 , 546  \\n vineyard frost prevention 123 , 124, 0.824474633)</td>\n",
       "      <td>0.283747</td>\n",
       "    </tr>\n",
       "    <tr>\n",
       "      <th>15</th>\n",
       "      <td>(346\\nA Beginner’s Guide to Designing Embedded System ApplicationsNUCLEO\\n-F429ZI32F429ZIT6U\\nARM7B776 VQ\\nPHL 7B 7213e412000K620 Y12000\\nK620 Y\\n120 00K620 YDGKYD\\nKMS-1 102NL1706C\\nSTM32F103CBT6\\ne393701GH218CHN\\nST890C\\nGK717\\n11\\n22\\n33\\n44\\n55\\n66\\n77\\n88\\n9\\n10\\n11\\n12\\n13\\n14\\n15PH_0\\nPD_0\\nPD_1\\nPG_0PH_1PF_2PA_7PF_10PF_5PF_3PC_3PC_030\\n29\\n28\\n27\\n2616\\n2515\\n2414\\n2313\\n2212\\n2111\\n2010\\n199\\n18\\n17\\n165V\\nVIN3.3VIOREF\\nGND\\nGNDGND\\nNCNC\\nUART2_RX\\nCAN1_TDCAN1_ DRADC1/7ADC1/3\\nADC1/10\\nADC1/13\\nADC3/9\\nADC3/15\\nADC3/8\\nADC3/5NRSTPC_8\\nPC_9\\nPC_10\\nPC_11\\nPC_12\\nPD_2\\nPG_2\\nPG_3\\nGNDPD_7\\nPD_6\\nPD_5\\nPD_4\\nPD_3\\nPE_2\\nPE_4\\nPE_3\\nPF_7\\nPG_1UART2_RX\\nUART2_ XT\\nUART_X7TUART2_RTS\\nUART2_CTSUART3_TX\\nUART3_RX\\nUART5_TX\\nUART5_RX\\nPA_3\\nSPI1_MOSISPI3_SCK\\nSPI2_SCK\\nSPI4_SCK\\nSPI5_SCKSPI4_CSSPI3_MISO\\nSPI3_MOSI\\nSPI3_MOSI\\nSPI2_MOSI\\nPWM1/1NPWM2/4\\nPWM11/1PWM3/3\\nI2C3_SDA PWM3/4\\nA0\\nA1\\nA2\\nA3\\nA4\\nA5\\nADC3/6 PF_8 SPI5_MISO PWM /131\\nADC3/7 PF_9 SPI5_MOSI PWM /141PE_6 SPI4_MOSI PWM /29PE_5 SPI4_MISO PWM /91\\nUART _TX6\\nUART_X6R\\nUART_X1T\\nUART _RTS3\\nUART _CTS3\\nUART_X4T, 0.773964405)</td>\n",
       "      <td>0.236537</td>\n",
       "    </tr>\n",
       "    <tr>\n",
       "      <th>1</th>\n",
       "      <td>(Chapter 1 | Introduction to Embedded Systems \\n37The STM32F429ZIT6U microcontroller includes a Cortex-M4 processor , as shown in Figure 1.22. It \\ncan be appreciated that, beyond the processor, the microcontroller includes other peripherals such as \\ncommunication cores (ethernet, USB, UART, etc.), memory, timers, and GPIO (General Purpose Input Output) ports. \\nNUCLEO\\n-F429ZI32F429ZIT6U\\nARM7B776 VQ\\nPHL 7B 7213e412000K620 Y12000\\nK620 Y\\n120 00K620 YDGKYD\\nKMS-1 102NL1706C\\nSTM32F103CBT6\\ne393701GH218CHN\\nST890C\\nGK717\\n11\\n22\\n33\\n44\\n55\\n66\\n77\\n88\\n9\\n10\\n11\\n12\\n13\\n14\\n15PH_0\\nPD_0\\nPD_1\\nPG_0PH_1PF_2PA_7PF_10PF_5PF_3PC_3PC_030\\n29\\n28\\n27\\n2616\\n2515\\n2414\\n2313\\n2212\\n2111\\n2010\\n199\\n18\\n17\\n165V\\nVIN3.3VIOREF\\nGND\\nGNDGND\\nNCNC\\nUART2_RX\\nCAN1_TDCAN1_ DRADC1/7ADC1/3\\nADC1/10\\nADC1/13\\nADC3/9\\nADC3/15\\nADC3/8\\nADC3/5NRSTPC_8\\nPC_9\\nPC_10\\nPC_11\\nPC_12\\nPD_2\\nPG_2\\nPG_3\\nGNDPD_7\\nPD_6\\nPD_5\\nPD_4\\nPD_3\\nPE_2\\nPE_4\\nPE_3\\nPF_7\\nPG_1UART2_RX\\nUART2_ XT\\nUART_X7TUART2_RTS\\nUART2_CTSUART3_TX\\nUART3_RX\\nUART5_TX\\nUART5_RX\\nPA_3\\nSPI1_MOSISPI3_SCK\\nSPI2_SCK, 0.808997333)</td>\n",
       "      <td>-0.658202</td>\n",
       "    </tr>\n",
       "    <tr>\n",
       "      <th>8</th>\n",
       "      <td>(Preface\\nxx10A250V AC  10A 125V ACCU S\\n10A 0VDC   10A VDC 32 8\\nSRD-05VDC-SL- CCQCRSONGLE\\n10A250V AC  10A 125V ACCU S\\n10A 0VDC   10A VDC 32 8\\nSRD-05VDC-SL- CCQCRSONGLE\\n2 Relay ModuleK2 K1\\nJD-VCC  VCC  GND GND IN1 IN2 VCCR3 R2D2 D2Q2 Q1\\nIN2 IN1\\nR4 R1+ +\\nB1810\\n817C\\nGB1810\\n817C\\nG\\n1982A 12381H2FPD-270A\\nSolenoid valve External 12V\\nPower source\\nGND12\\n12V\\nAC POWER Adapte r\\nInput 240 VCA\\nOutpur 12V CC 2A\\nErPAri\\nHL-69\\nMoisture\\nsensor\\nEPARIDO-LED\\nAO  DO  GND VCC\\nPWR-LED\\n+\\n+\\n--\\n--\\n+\\n+\\n--\\n--123456789101112131415161718192021222324252627282930f g\\nh i\\njf g\\nh i\\nja b\\nc d\\nea b\\nc d\\ne123456789101112131415161718192021222324252627282930(Relay IN1)\\ndPF2_5V GND\\n5V\\nGNDNUCLEO-F429Z\\nI\\n32F429ZIT6UAR\\nM\\n7B776 VQPHL 7B 7213e412000K620 Y12000\\nK620 Y\\n12000K620 Y DGKYDKMS-1102NL1706C\\nSTM32F103CBT6\\ne393701GH218CHN\\nST890C\\nGK717\\n3.3V\\nGNDD4 to D7D8,D9CN9 CN8\\nCN7CN10Relay module\\nCN9\\nPF  9_\\nPF  7_\\nPF  8_\\nPG  1_(Mode)(How Often)(How Long)(Moisture)COM11NO\\nA3\\nVDDVSS VORSRWED0D1D2D3D4D5D6D7A K11 6, 0.781673431)</td>\n",
       "      <td>-0.959287</td>\n",
       "    </tr>\n",
       "    <tr>\n",
       "      <th>7</th>\n",
       "      <td>(38\\nA Beginner’s Guide to Designing Embedded System ApplicationsFigure 1.23 shows how different elements of the STM32F429ZIT6U microcontroller  are mapped \\nto the Zio and Arduino-compatible headers of the NUCLEO-F429ZI board. Some other elements \\nare mapped to the CN11 and CN12 headers of the NUCLEO-F429ZI board, as will be discussed in upcoming chapters. Further information on these headers is available from [17].\\nIn this chapter, buttons were connected to the NUCLEO board using pins D2 to D7. From Figure 1.23, \\nit can be seen that those digital inputs can also be referred to as PF_15, PE_13, P_14, PE_11, PE_9, and PF_13, respectively. Throughout this book, many pins of the ST Zio connectors will be used, and they will be referred to in the code using the names shown in Figure 1.23., 0.781762719)</td>\n",
       "      <td>-1.543990</td>\n",
       "    </tr>\n",
       "    <tr>\n",
       "      <th>21</th>\n",
       "      <td>(422\\nA Beginner’s Guide to Designing Embedded System Applications(Relay GND)(Relay VCC)\\nNUCLEO-F429Z\\nI\\n32F429ZIT6UARM\\n7B776 VQPHL 7B 7213e412000K620 Y12000\\nK620 Y\\n12000K620 Y DGKYDKMS-1102NL1706C\\nSTM32F103CBT6\\ne393701GH218CHN\\nST890C\\nGK717CN8\\n+\\n+\\n--\\n--\\n+\\n+\\n--\\n--123456789101112131415161718192021222324252627282930f g\\nh i\\njf g\\nh i\\nja b\\nc d\\nea b\\nc d\\ne123456789101112131415161718192021222324252627282930\\nMQ-2\\nGas sensor\\n-2MQ\\nGND5V\\nRGB LEDGND 3V3GND  V53V3     5V\\n3V3     5VMB-102CN9\\nCN7CN10GND\\n3.3VPotentiometer\\n5V\\nGNDA1Temperature\\nsensorLM35\\n3.3V\\n5V\\nGNDGNDHV1HV2HV\\nLVHV3\\nLV3LV3 LV1HV4\\nLV4LV4 LV2GND\\nGND\\nGNDVCCVORSR/WEDBDBDBDBDBDBDBDB01234567\\nNCPSB RSTVOUTBLABLK\\n1 20A0PG  0_10KΩ GND 5V25V2uF 220\\n25V2uF 220\\n25V2uF 220PIR\\nsensor\\nRed\\nGND\\nBlue\\nGreenPE  12_(Gas)\\nPF  9_\\nPF  7_\\nPF  8_\\nPG  1_(Dir1LS)\\n(Dir1)\\nPE  6_(Audio)\\n(DirLS)2\\n(Dir)2\\nPB  4_\\nPD  12_\\nPA0_(Red)(Blue)(Green)\\nLDRL 35M\\nPC  9_Buzzer\\n5V\\nDO1033.3V\\nSD card and\\nSD card readerGND\\nA\\nB\\nC\\nD871\\n42\\n53\\n6\\n9\\n0 #\\n5151\\n10K\\nJAPANFCCvRKingston\\n1\\nSDCS/32GB, 0.766061246)</td>\n",
       "      <td>-2.066066</td>\n",
       "    </tr>\n",
       "    <tr>\n",
       "      <th>2</th>\n",
       "      <td>(USAR Tn\\nbxCANnsmcard\\nirDA\\nFIFODigital\\nﬁlter\\nDACnAPB1 45 MHz (max)AHB1 180 MHzAHB3\\nVDD = 1.8 to 3.6V\\nVSS\\nVCAP1, VCAP2APB2 90 MHzART\\nACCEL/CACHE\\nGPIO POR TtOSC32_I N\\nOSC32_OUTDMA2USB\\nOTG HS\\n8 Streams\\nFIFODMA/\\nFIFO PHY\\nCHROM-AR T\\nDMA2DFIFO\\nFIFO8 Streams\\nFIFODMA1\\nLCD_R[7:0], LCD_G[7:0] ,\\nLCD_B[7:0], LCD_HSYNC,\\nLCD_VSYNC, LCD_DE,\\nLCD_CLKLCD-TFTDMA/\\nFIFO\\nRTC_AF1\\nRTC_AF1\\nRTC 50Hz\\n4KB BXPSRAMLS@ VBAT\\nRTC\\nAWU\\nBackup registerXTAL32 KHz\\nLSStandby\\ninterfaceIWDGXTALOSC 4-26 MHzPOR\\nreset\\nInt\\n@ VDDA @ VDDPVDPOR/PDR BORSupply\\nsupervision@ VDDVDD\\nVoltage regulator\\n3.3 to 1.2VPower\\nmanagement\\nPLL1, 2, 3RC    LSRC    HS@ VDDA\\nReset\\n&amp; clock\\ncontrol\\nFigure 1.22 STM32F429ZI block diagram made using information available from [9]., 0.807931781)</td>\n",
       "      <td>-3.935900</td>\n",
       "    </tr>\n",
       "    <tr>\n",
       "      <th>6</th>\n",
       "      <td>(List of Figures\\nxxxiv\\nFigure 1.19  Simplified diagram of the Cortex processor family. 33\\nFigure 1.20  Simplified diagram of the Cortex M0, M3, and M4 processors, and details of the \\ncorresponding cores. 34\\nFigure 1.21  Arm Cortex M0, M3, and M4 Instruction Set Architecture (ISA). 35\\nFigure 1.22  STM32F429ZI block diagram made using information available from [9]. 36\\nFigure 1.23  ST Zio connectors of the NUCLEO-F429ZI board. 37\\nFigure 1.24  Hierarchy of different elements introduced in this chapter. 38\\nFigure 1.25  “Smart door locks” built with Mbed contains elements introduced in  this chapter. 39\\nFigure 2.1  The smart home system is now connected to a PC. 45\\nFigure 2.2 Website with the program documentation generated with Doxygen. 57\\nFigure 2.3 Detailed description of functions and variables of the program that is  available on the website (Part 1/3). 57\\nFigure 2.4 Detailed description of functions and variables of the program that is  available on the website (Part 2/3). 58, 0.782090366)</td>\n",
       "      <td>-5.124876</td>\n",
       "    </tr>\n",
       "    <tr>\n",
       "      <th>4</th>\n",
       "      <td>(//   commented//   See https://os.mbed.com/teams/ST/wiki/STDIO for more information.////==============================================================================\\nCode 8.1 Notes on the PinNames.h file of the NUCLEO-F429ZI  board.\\nCode 8.2 and Code 8.3 show the section of PinNames.h  regarding PWM pins. For example, on line 4 \\nof Code 8.2, it can be seen that PA_0 is related to PWM2 and channel 1 (channel 1 is indicated by \\nthe 1 that is the penultimate value of line 4), which is used to control the green LED  of the RGB LED \\n(see Figure 8.3). This “normal” functionality of PA_0 is shown in Figure 8.5. In line 1 of Code 8.3, it can be seen that PB_0 is related to PWM1 and channel 2, with inverted behavior (ultimate value 1 of line 1). Inverted behavior means that a logic true is set by a 0 V value, as was explained above. This functionality is also shown on Figure 8.5.\\n1\\n23456789\\n10111213141516171819202122//*** PWM ***, 0.788035452)</td>\n",
       "      <td>-5.264961</td>\n",
       "    </tr>\n",
       "    <tr>\n",
       "      <th>24</th>\n",
       "      <td>(UART5_TX\\nUART5_RX\\nPA_3\\nSPI1_MOSISPI3_SCK\\nSPI2_SCK\\nSPI4_SCK\\nSPI5_SCKSPI4_CSSPI3_MISO\\nSPI3_MOSI\\nSPI3_MOSI\\nSPI2_MOSI\\nPWM1/1NPWM2/4\\nPWM11/1PWM3/3\\nI2C3_SDA PWM3/4\\nA0\\nA1\\nA2\\nA3\\nA4\\nA5\\nADC3/6 PF_8 SPI5_MISO PWM /131\\nADC3/7 PF_9 SPI5_MOSI PWM /141PE_6 SPI4_MOSI PWM /29PE_5 SPI4_MISO PWM /91\\nUART _TX6\\nUART_X6R\\nUART_X1T\\nUART _RTS3\\nUART _CTS3\\nUART_X4T\\nUART_X8RUART _CTS2UART _3CTS\\nUART _TX6\\nUART_X6R\\nUART _TX7\\nUART_X7R\\nUART_X3RUART_X3TSPI4_SCKSPI2_MISOSPI1_MISOSPI1_SCKSPI1_CSSPI2_CS\\nSPI4_CS\\nSPI4_MISO\\nSPI6_MOSI\\nSPI4_SCK\\nSPI4_MOSI\\nSPI2_SCKSPI2_SCKSPI2_MOSI\\nSPI1_MOSI\\nSPI1_CS\\nI2C1_SCL CAN2_TDCAN2_RD\\nI2C2_SDAI2C2_SCLCAN2_TD\\nCAN2_RD\\nPWM2/1PWM4/1PWM4/1PWM1/3NPWM1/2\\nPWM1/3PWM1/1\\nPWM1/1N\\nPWM1/2N\\nPWM1/3N\\nPWM1/4\\nPWM2/3\\nPWM2/4PWM3/1PWM2/2PWM3/2PWM3/2PWM2/1PWM3/1\\nPWM1/3N\\nPWM1/1N\\nPWM4/2\\nPWM1/2N1\\n12\\n23\\n34\\n45\\n56\\n67\\n78\\n89\\n910\\n10\\n11\\n12\\n13\\n14\\n15\\n1617\\nPD_12\\nPE_2PD_11\\nPA_0\\nPB_0\\nPE_0PB_4\\nPD_13PA_4\\nPB_2PB_3PC_7\\nPB_5\\nPF_4PA_15\\nPC_2PB_12\\nPB_1PB_13\\nPB_6PB_1520\\n3019\\n29333418\\n283217\\n273116\\n2615\\n2514\\n2413\\n2312\\n2211\\n21\\n20\\n19\\n18, 0.765228748)</td>\n",
       "      <td>-5.368915</td>\n",
       "    </tr>\n",
       "    <tr>\n",
       "      <th>10</th>\n",
       "      <td>({PA_7_ALT1,  PWM_8,  STM_PIN_DATA_EXT(STM_MODE_AF_PP, GPIO_NOPULL, GPIO_AF3_TIM8, 1, 1)},     {PA_7_ALT2,  PWM_14, STM_PIN_DATA_EXT(STM_MODE_AF_PP, GPIO_NOPULL, GPIO_AF9_TIM14, 1, 0)},     {PA_8,       PWM_1,  STM_PIN_DATA_EXT(STM_MODE_AF_PP, GPIO_NOPULL, GPIO_AF1_TIM1, 1, 0)},     {PA_9,       PWM_1,  STM_PIN_DATA_EXT(STM_MODE_AF_PP, GPIO_NOPULL, GPIO_AF1_TIM1, 2, 0)},     {PA_10,      PWM_1,  STM_PIN_DATA_EXT(STM_MODE_AF_PP, GPIO_NOPULL, GPIO_AF1_TIM1, 3, 0)},     {PA_11,      PWM_1,  STM_PIN_DATA_EXT(STM_MODE_AF_PP, GPIO_NOPULL, GPIO_AF1_TIM1, 4, 0)},     {PA_15,      PWM_2,  STM_PIN_DATA_EXT(STM_MODE_AF_P\\nP, GPIO_NOPULL, GPIO_AF1_TIM2,  1, 0)}, \\nCode 8.2 Notes on the PinNames.h file of the NUCLEO-F429ZI  board.\\nIt can be seen that PWM functionality is available as alternative functionality in more pins indicated as, 0.779308081)</td>\n",
       "      <td>-5.507993</td>\n",
       "    </tr>\n",
       "    <tr>\n",
       "      <th>17</th>\n",
       "      <td>(101112131415161718192021222324252627282930313233343536373839404142424344454647484950    {PB_0,       PWM_1,  STM_PIN_DATA_EXT(STM_MODE_AF_PP, GPIO_NOPULL, GPIO_AF1_TIM1, 4, 1)},     {PB_0_ALT0,  PWM_3,  STM_PIN_DATA_EXT(STM_MODE_AF_PP, GPIO_NOPULL, GPIO_AF2_TIM3, 3, 0)},     {PB_0_ALT1,  PWM_8,  STM_PIN_DATA_EXT(STM_MODE_AF_PP, GPIO_NOPULL, GPIO_AF3_TIM8, 2, 1)},     {PB_1,       PWM_1,  STM_PIN_DATA_EXT(STM_MODE_AF_PP, GPIO_NOPULL, GPIO_AF1_TIM1, 3, 1)},     {PB_1_ALT0,  PWM_3,  STM_PIN_DATA_EXT(STM_MODE_AF_PP, GPIO_NOPULL, GPIO_AF2_TIM3, 4, 0)},     {PB_1_ALT1,  PWM_8,  STM_PIN_DATA_EXT(STM_MODE_AF_PP, GPIO_NOPULL, GPIO_AF3_TIM8, 3, 1)},     {PB_3,       PWM_2,  STM_PIN_DATA_EXT(STM_MODE_AF_PP, GPIO_NOPULL, GPIO_AF1_TIM2, 2, 0)},     {PB_4,       PWM_3,  STM_PIN_DATA_EXT(STM_MODE_AF_PP, GPIO_NOPULL, GPIO_AF2_TIM3, 1, 0)},     {PB_5,       PWM_3,  STM_PIN_DATA_EXT(STM_MODE_AF_PP, GPIO_NOPULL, GPIO_AF2_TIM3, 2, 0)},     {PB_6,       PWM_4,  STM_PIN_DATA_EXT(STM_MODE_AF_PP,, 0.77209276)</td>\n",
       "      <td>-5.671560</td>\n",
       "    </tr>\n",
       "    <tr>\n",
       "      <th>3</th>\n",
       "      <td>(337 , 388 , 455 , 506 , 508  \\n preprocessor directive 217  \\n processor xvi, xxii, xxvi, 33–35, 37, 38, 41, 44, 124 , 353 , 420 , 439  \\n project management 501  \\n Proyecto CIAA xiii, xxiii, xxiv, 443  \\n pull-down resistor 14, 23, 55, 111  \\n pull-up resistor 14, 15, 92, 253 , 255 , 521 , 522  \\n Pulse-Code Modulation (PCM) 354  \\n pulse-width modulation xxvii, 342 , 343 , 345 , 347 –351 , 353 –357 , 360 –362 , \\n 364 –367 , 379 , 380 , 383 –385 , 552\\nR Real Time Clock (RTC) 126 , 132 , 133 , 149 , 153 , 155 , 160 , 167 , 181 , 182 , 193 , 393 , 396  \\n reference operator 151 , 153 , 156 , 261 , 311 , 439  \\n relay module 296 , 299 , 301 , 336 –339 , 506 , 508 , 510 , 514 –516 , 530  \\n repository xxv, xxvi, xxvii, 10, 387 , 388 , 393 , 413 –415 , 416 , 417 , 503 , 546  \\n requirements 2, 497 , 498 , 501 –506 , 510 , 511 , 521 , 522 , 533 , 545 –548  \\n responsiveness 97 \\n RGB LED 342 –345 , 348 –350 , 356 , 357 , 360 –364 , 370 , 373 , 374 , 383 –385  \\n rising edge interrupts 320 , 323 , 324, 0.79098624)</td>\n",
       "      <td>-6.078181</td>\n",
       "    </tr>\n",
       "    <tr>\n",
       "      <th>18</th>\n",
       "      <td>(Chapter 12 | Guide to Designing and Implementing an Embedded System Project\\n553 References\\n[1] “NUCLEO-F429ZI | Mbed” . Accessed July 9, 2021. \\nhttps://os.mbed.com/platforms/ST-Nucleo-F429ZI/#zio-and-arduino-compatible-headers \\n[2] “GitHub - armBookCodeExamples/Directory” . Accessed July 9, 2021. https://github.com/armBookCodeExamples/Directory \\n[3] Pham, H. (1999). Software Reliability. John Wiley &amp; Sons, Inc. p. 567. ISBN 9813083840., 0.767920196)</td>\n",
       "      <td>-6.971182</td>\n",
       "    </tr>\n",
       "    <tr>\n",
       "      <th>9</th>\n",
       "      <td>([2] “HD44780U (LCD-II) (Dot Matrix Liquid Crystal Display Controller/Driver)” . Accessed July 9, 2021. https://www.sparkfun.com/datasheets/LCD/HD44780.pdf \\n[3] “GitHub - armBookCodeExamples/Directory” . Accessed July 9, 2021. https://github.com/armBookCodeExamples/Directory/  \\n[4] “NUCLEO-F429ZI | Mbed” . Accessed July 9, 2021. https://os.mbed.com/platforms/ST-Nucleo-F429ZI/ \\n[5] “ASCII | Wikipedia” . Accessed July 9, 2021. https://en.wikipedia.org/wiki/ASCII \\n[6] “I2C Serial Interface Adapter Module for LCD” . Accessed July 9, 2021. https://components101.com/modules/i2c-serial-interface-adapter-module \\n[7] “PCF8574 Remote 8-Bit I/O Expander for I2C Bus” . Accessed July 9, 2021. https://www.ti.com/lit/ds/symlink/pcf8574.pdf \\n[8] “Addressing - I2C Bus” . Accessed July 9, 2021. https://www.i2c-bus.org/addressing/ \\n[9] “ST7290 GLCD Pinout, Features, Interfacing &amp; Datasheet” . Accessed July 9, 2021. https://components101.com/displays/st7290-graphical-lcd, 0.781493)</td>\n",
       "      <td>-7.042024</td>\n",
       "    </tr>\n",
       "    <tr>\n",
       "      <th>12</th>\n",
       "      <td>(outputs, some fixed and some selectable. \\nWaRning: The selectable outputs should be configured as indicated in Figure 4.7. Otherwise, some modules may be harmed. \\nGND 3V3GND  V53V3     5V\\n3V3     5VVoltage\\nselectorsOutput\\nPowerFixed\\n5V\\nFixed\\n3.3VInput\\nPower\\noptions5V\\nMini\\nUSB-B\\n7 to 12 V\\nJackSelectable\\n5V or 3.3VSelectable\\n5V or 3.3V\\nFigure 4.7 Diagram of the MB102  module.\\n4.2.2 T est the Operation of the Matrix Keypad  and the RTC\\nThis subsection explains how to load a program onto the STM32 microcontroller in order to test if the matrix keypad that has been connected is working properly. It will also show how to configure the RTC of the STM32 microcontroller. The serial terminal will display the keys that are pressed on the matrix keypad, and the PC keyboard will be used to configure the date and time of the RTC. The .bin  file of the \\nprogram “Subsection 4.2.2” should be downloaded from the URL available in [4] and dragged onto the NUCLEO board., 0.774409235)</td>\n",
       "      <td>-7.134541</td>\n",
       "    </tr>\n",
       "    <tr>\n",
       "      <th>19</th>\n",
       "      <td>(M_14, STM_PIN_DATA_EXT(STM_MODE_AF_PP, GPIO_NOPULL, GPIO_AF9_TIM14,  1, 0)}, \\n    {NC, NC, 0}\\n}; \\nCode 8.3 Notes on the PinNames.h file of the NUCLEO-F429ZI  board., 0.766739786)</td>\n",
       "      <td>-7.249991</td>\n",
       "    </tr>\n",
       "    <tr>\n",
       "      <th>14</th>\n",
       "      <td>(TIM / PWMn\\nTIMnTIM9\\nUSAR TnPort P [15:0] t\\nwith t =A to KArm Cortex-M4\\n180 Mhz\\nFPUCCM data RAM 64 KB\\nD-BUSNVICMPU\\nD-BUS\\nD-BUSArm Cortex-M4\\nProcessorETMJTAG &amp; SW\\nEthernet MAC\\n10/100MII or RMII as AF\\nMDIO as AFExternal memory controller (FMC)\\nSRAM, SDRAM, PSRAM,\\nNOR Flash, PC Card, NAND Flash\\nUSB\\nOTG FSCamera\\ninterface2x\\n1MB Flash\\nSRAM\\n112, 16 &amp; 64 KBRING\\nFIFOFIFO\\nPHY\\n16b\\n16b\\n16b\\nsmcard\\nirDA\\nSD, SCK, FS, MCLK as AFSPIn\\nADC1Temperature sensor\\nADC2I F\\nADC3SAI1APB2 90 MHzFIFO\\nTIMnWWDG\\n16b1 channela sAF\\nwith n = 13 or 144 channels, ETR as AF\\nwith n = 3 or 44 channels, ETR as AF\\n2 channels asAF4 channels\\nMOSI/SD, MISO/SD_ext,\\nSCK/CK, NSS/WS, MC K\\nasAFwith n = 2 or 3RX,T X as AF\\nwith n = 4, 5, 7 or 8\\nSCL, SDA, SMBA asAF\\nwith n = 1, 2 or 3RX,TX, CK, CST,  RTS\\nasAFwith n = 2 or 3\\nTX, RXwith n = 1 or 2\\nDAC _OUT asAF n\\nwith n = 1 or 2 ITFTIMnTIMn\\nTIM12TIM5TIM2\\nAHB/APB2DMA2 DMA1\\nAHB/APB1\\nSP/ 2SInnUAR Tn\\nI2C /SMBUSn16b16b\\n16b32b32b\\nUSAR Tn\\nbxCANnsmcard\\nirDA\\nFIFODigital\\nﬁlter, 0.774132073)</td>\n",
       "      <td>-7.423570</td>\n",
       "    </tr>\n",
       "    <tr>\n",
       "      <th>22</th>\n",
       "      <td>(MSTD_CONSTEXPR_OBJ_11 PinMap PinMap_PWM[] = {    {PA_0,       PWM_2, STM_PIN_DATA_EXT(STM_MODE_AF_PP, GPIO_NOPULL, GPIO_AF1_TIM2, 1, 0)},     {PA_1,       PWM_2, STM_PIN_DATA_EXT(STM_MODE_AF_PP, GPIO_NOPULL, GPIO_AF1_TIM2, 2, 0)},     {PA_2,       PWM_2, STM_PIN_DATA_EXT(STM_MODE_AF_PP, GPIO_NOPULL, GPIO_AF1_TIM2, 3, 0)},     {PA_2_ALT0,  PWM_9, STM_PIN_DATA_EXT(STM_MODE_AF_PP, GPIO_NOPULL, GPIO_AF3_TIM9, 1, 0)},     {PA_3,       PWM_2, STM_PIN_DATA_EXT(STM_MODE_AF_PP, GPIO_NOPULL, GPIO_AF1_TIM2, 4, 0)},     {PA_3_ALT0,  PWM_9, STM_PIN_DATA_EXT(STM_MODE_AF_PP, GPIO_NOPULL, GPIO_AF3_TIM9, 2, 0)},     {PA_5,       PWM_2, STM_PIN_DATA_EXT(STM_MODE_AF_PP, GPIO_NOPULL, GPIO_AF1_TIM2, 1, 0)},     {PA_5_ALT0,  PWM_8, STM_PIN_DATA_EXT(STM_MODE_AF_PP, GPIO_NOPULL, GPIO_AF3_TIM8, 1, 1)},     {PA_6,       PWM_3, STM_PIN_DATA_EXT(STM_MODE_AF_PP, GPIO_NOPULL, GPIO_AF2_TIM3, 1, 0)},     {PA_6_ALT0,  PWM_13, STM_PIN_DATA_EXT(STM_MODE_AF_PP, GPIO_NOPULL, GPIO_AF9_TIM13, 1, 0)},     {PA_7,, 0.765662611)</td>\n",
       "      <td>-7.483180</td>\n",
       "    </tr>\n",
       "    <tr>\n",
       "      <th>23</th>\n",
       "      <td>(GPIO_AF9_TIM13, 1, 0)},     {PA_7,       PWM_1, STM_PIN_DATA_EXT(STM_MODE_AF_PP, GPIO_NOPULL, GPIO_AF1_TIM1, 1, 1)},     {PA_7_ALT0,  PWM_3,  STM_PIN_DATA_EXT(STM_MODE_AF_PP, GPIO_NOPULL, GPIO_AF2_TIM3, 2, 0)},, 0.765497625)</td>\n",
       "      <td>-7.791863</td>\n",
       "    </tr>\n",
       "    <tr>\n",
       "      <th>11</th>\n",
       "      <td>(1\\n23456789\\n101112typedef struct{    int address;    char data;    bool displayPinRs;    bool displayPinRw;     bool displayPinEn;    bool displayPinA;    bool displayPinD4;    bool displayPinD5;    bool displayPinD6;    bool displayPinD7;} pcf8574_t;\\nCode 6.23 New private data type used to implement the control of the LCD pins using the PCF8574 LCD module. \\nA private variable of type pcf8574_t  is declared in display.cpp, as shown in Code 6.24.\\n1static pcf8574_t pcf8574;\\nCode 6.24 Declaration of a private variable of type pcf8574_t. \\nThe implementation of displayInit()  is shown in Code 6.25 and Code 6.26. In line 3 of Code 6.25,  \\ndisplay.connection  is assigned and in line 5 it is evaluated to establish if it is equal to  \\nDISPLAY_CONNECTION_I2C_PCF8574_IO_EXPANDER. If so, pcf8574.address and pcf8574.data  are, 0.778919339)</td>\n",
       "      <td>-8.350111</td>\n",
       "    </tr>\n",
       "    <tr>\n",
       "      <th>16</th>\n",
       "      <td>(152\\nA Beginner’s Guide to Designing Embedded System Applications1\\n23456789\\n10111213141516171819202122232425262728293031323334353637383940414243444546474849505152535455565758596061626364case 's':case 'S':    struct tm rtcTime;    int strIndex;                uartUsb.write( \"\\r\\nType four digits for the current year (YYYY): \" , 48 );\\n    for( strIndex=0; strIndex&lt;4; strIndex++ ) {        uartUsb.read( &amp;str[strIndex] , 1 );        uartUsb.write( &amp;str[strIndex] ,1 );    }    str[4] = '\\0';    rtcTime.tm_year = atoi(str) - 1900;    uartUsb.write( \"\\r\\n\", 2 );\\n    uartUsb.write( \"Type two digits for the current month (01-12): \", 47 );\\n    for( strIndex=0; strIndex&lt;2; strIndex++ ) {        uartUsb.read( &amp;str[strIndex] , 1 );        uartUsb.write( &amp;str[strIndex] ,1 );    }    str[2] = '\\0';    rtcTime.tm_mon  = atoi(str) - 1;    uartUsb.write( \"\\r\\n\", 2 );\\n    uartUsb.write( \"Type two digits for the current day (01-31): \", 45 );, 0.773555934)</td>\n",
       "      <td>-8.951775</td>\n",
       "    </tr>\n",
       "    <tr>\n",
       "      <th>20</th>\n",
       "      <td>(2 (The same elements are used as in Chapter 1.) –\\n3LM35 temperature sensor 1\\n10 kΩ potentiometer 2\\nMQ-2 gas sensor 1\\n5V buzzer 1\\nResistors: 100 Ω, 150 Ω, 330 Ω, 1 kΩ, 10 kΩ, 47 kΩ, 100 kΩ \\n(100 kΩ are used in this chapter and the other resistors in different chapters. See note below.) 10 of each value\\nJumper wires (male–female) 80\\n4Matrix keypad (4 × 4) 1\\n90-degrees 2.54 mm (.1”) pitch pin header 40\\nMB102 breadboard power supply  \\n(One is used in this chapter and the other in Chapter 7.) 2\\nUSB–mini-USB cable 2\\n5BC548C NPN transistor (One is used in this chapter and the other in Chapter 8.) 2\\n6Character-based LCD display 20 × 4, based on HD44780 1\\nI2C PCF8574 expander 1\\n10 kΩ trimpot 1\\nBidirectional logic level converter 1\\nJumper wires (female–female) 40\\nGraphic LCD display, based on ST7920 1, 0.766438544)</td>\n",
       "      <td>-9.102522</td>\n",
       "    </tr>\n",
       "    <tr>\n",
       "      <th>13</th>\n",
       "      <td>([10] “ST7920 Chinese Fonts built in LCD controller/driver” . Accessed July 9, 2021. https://pdf1.alldatasheet.es/datasheet-pdf/view/326219/SITRONIX/ST7920.html, 0.774318695)</td>\n",
       "      <td>-9.436647</td>\n",
       "    </tr>\n",
       "  </tbody>\n",
       "</table>\n",
       "</div>"
      ],
      "text/plain": [
       "                                                                                                                                                                                                                                                                                                                                                                                                                                                                                                                                                                                                                                                                                                                                                                                                                                                                                                                                                                                                                                                                                                                                           Received Texts  \\\n",
       "5                                                                                                                                                                                                                                                                                                                                                      (Chapter 1 | Introduction to Embedded Systems \\n33Proposed Exercise\\n1. How can the code be changed in such a way that the system is blocked after three incorrect codes \\nare entered?\\nAnswer to the Exercise\\n1. It can be achieved by means of the change in T able 1.11.\\nT able 1.11 Proposed modification in the code in order to achieve the new behavior.\\nLine in Code 1.5 New code to be used\\n40 if ( numberOfIncorrectCodes < 5 ) 40 if ( numberOfIncorrectCodes < 3 )\\n1.3 Under the Hood\\n1.3.1 Brief Introduction to the Cortex-M Processor  Family and the NUCLEO Board\\nIn this chapter, many programs were developed using the NUCLEO board, provided with the \\nSTM32F429ZIT6U microcontroller . This microcontroller is manufactured by STMicroelectronics [13], 0.786926866)   \n",
       "0                                                                                   (Index\\n567 STM 32F429 ZIT 6U microcontroller 5, 33, 37, 38 \\n stop bit 46, 64, 65, 80, 256 , 257 , 273 , 468  \\n ST Zio connectors xiv, 6, 9, 37, 38, 44, 346  \\n superloop 13, 519  \\n synchronous communication 255\\nT TCP server 456 , 457 , 459 , 460 –463 , 491  \\n temperature sensor 4, 5, 87, 106 , 123 , 182 , 220 , 233 , 334 , 486 , 550  \\n time management xvi, 86, 95, 99, 289 , 342 , 348 , 353  \\n timers xvi, xxvii, 37, 306 , 342 , 343 , 345 , 348 –350 , 353 , 354 , \\n 361 , 441 , 512 –517 , 533 , 535 , 537 , 538 , 539  \\n tm structure 153  \\n TO- 220  package 89\\nU UART xvi, xvii, 5, 44, 61, 63, 79, 82, 84, 86, 181 , 191 , 222 , 255 , 290 , 291 , \\n 306 , 350 , 420 , 423 , 447 , 455 , 461 , 465 , 468 , 544  \\n USB xiv, xxvii, 4, 9, 37, 44, 45, 63, 79, 82, 88, 132 , 449 , 506 , 507 , 508 , 544  \\n USB connection xiv, 44, 506  \\n use cases 497 , 501 –504 , 511 , 545 , 546 , 547 , 548\\nV validation 496 , 497 , 546 , 547  \\n verification 81, 92, 496 , 497 , 546  \\n vineyard frost prevention 123 , 124, 0.824474633)   \n",
       "15      (346\\nA Beginner’s Guide to Designing Embedded System ApplicationsNUCLEO\\n-F429ZI32F429ZIT6U\\nARM7B776 VQ\\nPHL 7B 7213e412000K620 Y12000\\nK620 Y\\n120 00K620 YDGKYD\\nKMS-1 102NL1706C\\nSTM32F103CBT6\\ne393701GH218CHN\\nST890C\\nGK717\\n11\\n22\\n33\\n44\\n55\\n66\\n77\\n88\\n9\\n10\\n11\\n12\\n13\\n14\\n15PH_0\\nPD_0\\nPD_1\\nPG_0PH_1PF_2PA_7PF_10PF_5PF_3PC_3PC_030\\n29\\n28\\n27\\n2616\\n2515\\n2414\\n2313\\n2212\\n2111\\n2010\\n199\\n18\\n17\\n165V\\nVIN3.3VIOREF\\nGND\\nGNDGND\\nNCNC\\nUART2_RX\\nCAN1_TDCAN1_ DRADC1/7ADC1/3\\nADC1/10\\nADC1/13\\nADC3/9\\nADC3/15\\nADC3/8\\nADC3/5NRSTPC_8\\nPC_9\\nPC_10\\nPC_11\\nPC_12\\nPD_2\\nPG_2\\nPG_3\\nGNDPD_7\\nPD_6\\nPD_5\\nPD_4\\nPD_3\\nPE_2\\nPE_4\\nPE_3\\nPF_7\\nPG_1UART2_RX\\nUART2_ XT\\nUART_X7TUART2_RTS\\nUART2_CTSUART3_TX\\nUART3_RX\\nUART5_TX\\nUART5_RX\\nPA_3\\nSPI1_MOSISPI3_SCK\\nSPI2_SCK\\nSPI4_SCK\\nSPI5_SCKSPI4_CSSPI3_MISO\\nSPI3_MOSI\\nSPI3_MOSI\\nSPI2_MOSI\\nPWM1/1NPWM2/4\\nPWM11/1PWM3/3\\nI2C3_SDA PWM3/4\\nA0\\nA1\\nA2\\nA3\\nA4\\nA5\\nADC3/6 PF_8 SPI5_MISO PWM /131\\nADC3/7 PF_9 SPI5_MOSI PWM /141PE_6 SPI4_MOSI PWM /29PE_5 SPI4_MISO PWM /91\\nUART _TX6\\nUART_X6R\\nUART_X1T\\nUART _RTS3\\nUART _CTS3\\nUART_X4T, 0.773964405)   \n",
       "1                    (Chapter 1 | Introduction to Embedded Systems \\n37The STM32F429ZIT6U microcontroller includes a Cortex-M4 processor , as shown in Figure 1.22. It \\ncan be appreciated that, beyond the processor, the microcontroller includes other peripherals such as \\ncommunication cores (ethernet, USB, UART, etc.), memory, timers, and GPIO (General Purpose Input Output) ports. \\nNUCLEO\\n-F429ZI32F429ZIT6U\\nARM7B776 VQ\\nPHL 7B 7213e412000K620 Y12000\\nK620 Y\\n120 00K620 YDGKYD\\nKMS-1 102NL1706C\\nSTM32F103CBT6\\ne393701GH218CHN\\nST890C\\nGK717\\n11\\n22\\n33\\n44\\n55\\n66\\n77\\n88\\n9\\n10\\n11\\n12\\n13\\n14\\n15PH_0\\nPD_0\\nPD_1\\nPG_0PH_1PF_2PA_7PF_10PF_5PF_3PC_3PC_030\\n29\\n28\\n27\\n2616\\n2515\\n2414\\n2313\\n2212\\n2111\\n2010\\n199\\n18\\n17\\n165V\\nVIN3.3VIOREF\\nGND\\nGNDGND\\nNCNC\\nUART2_RX\\nCAN1_TDCAN1_ DRADC1/7ADC1/3\\nADC1/10\\nADC1/13\\nADC3/9\\nADC3/15\\nADC3/8\\nADC3/5NRSTPC_8\\nPC_9\\nPC_10\\nPC_11\\nPC_12\\nPD_2\\nPG_2\\nPG_3\\nGNDPD_7\\nPD_6\\nPD_5\\nPD_4\\nPD_3\\nPE_2\\nPE_4\\nPE_3\\nPF_7\\nPG_1UART2_RX\\nUART2_ XT\\nUART_X7TUART2_RTS\\nUART2_CTSUART3_TX\\nUART3_RX\\nUART5_TX\\nUART5_RX\\nPA_3\\nSPI1_MOSISPI3_SCK\\nSPI2_SCK, 0.808997333)   \n",
       "8                                                             (Preface\\nxx10A250V AC  10A 125V ACCU S\\n10A 0VDC   10A VDC 32 8\\nSRD-05VDC-SL- CCQCRSONGLE\\n10A250V AC  10A 125V ACCU S\\n10A 0VDC   10A VDC 32 8\\nSRD-05VDC-SL- CCQCRSONGLE\\n2 Relay ModuleK2 K1\\nJD-VCC  VCC  GND GND IN1 IN2 VCCR3 R2D2 D2Q2 Q1\\nIN2 IN1\\nR4 R1+ +\\nB1810\\n817C\\nGB1810\\n817C\\nG\\n1982A 12381H2FPD-270A\\nSolenoid valve External 12V\\nPower source\\nGND12\\n12V\\nAC POWER Adapte r\\nInput 240 VCA\\nOutpur 12V CC 2A\\nErPAri\\nHL-69\\nMoisture\\nsensor\\nEPARIDO-LED\\nAO  DO  GND VCC\\nPWR-LED\\n+\\n+\\n--\\n--\\n+\\n+\\n--\\n--123456789101112131415161718192021222324252627282930f g\\nh i\\njf g\\nh i\\nja b\\nc d\\nea b\\nc d\\ne123456789101112131415161718192021222324252627282930(Relay IN1)\\ndPF2_5V GND\\n5V\\nGNDNUCLEO-F429Z\\nI\\n32F429ZIT6UAR\\nM\\n7B776 VQPHL 7B 7213e412000K620 Y12000\\nK620 Y\\n12000K620 Y DGKYDKMS-1102NL1706C\\nSTM32F103CBT6\\ne393701GH218CHN\\nST890C\\nGK717\\n3.3V\\nGNDD4 to D7D8,D9CN9 CN8\\nCN7CN10Relay module\\nCN9\\nPF  9_\\nPF  7_\\nPF  8_\\nPG  1_(Mode)(How Often)(How Long)(Moisture)COM11NO\\nA3\\nVDDVSS VORSRWED0D1D2D3D4D5D6D7A K11 6, 0.781673431)   \n",
       "7                                                                                                                                                                                                                                                                                                           (38\\nA Beginner’s Guide to Designing Embedded System ApplicationsFigure 1.23 shows how different elements of the STM32F429ZIT6U microcontroller  are mapped \\nto the Zio and Arduino-compatible headers of the NUCLEO-F429ZI board. Some other elements \\nare mapped to the CN11 and CN12 headers of the NUCLEO-F429ZI board, as will be discussed in upcoming chapters. Further information on these headers is available from [17].\\nIn this chapter, buttons were connected to the NUCLEO board using pins D2 to D7. From Figure 1.23, \\nit can be seen that those digital inputs can also be referred to as PF_15, PE_13, P_14, PE_11, PE_9, and PF_13, respectively. Throughout this book, many pins of the ST Zio connectors will be used, and they will be referred to in the code using the names shown in Figure 1.23., 0.781762719)   \n",
       "21               (422\\nA Beginner’s Guide to Designing Embedded System Applications(Relay GND)(Relay VCC)\\nNUCLEO-F429Z\\nI\\n32F429ZIT6UARM\\n7B776 VQPHL 7B 7213e412000K620 Y12000\\nK620 Y\\n12000K620 Y DGKYDKMS-1102NL1706C\\nSTM32F103CBT6\\ne393701GH218CHN\\nST890C\\nGK717CN8\\n+\\n+\\n--\\n--\\n+\\n+\\n--\\n--123456789101112131415161718192021222324252627282930f g\\nh i\\njf g\\nh i\\nja b\\nc d\\nea b\\nc d\\ne123456789101112131415161718192021222324252627282930\\nMQ-2\\nGas sensor\\n-2MQ\\nGND5V\\nRGB LEDGND 3V3GND  V53V3     5V\\n3V3     5VMB-102CN9\\nCN7CN10GND\\n3.3VPotentiometer\\n5V\\nGNDA1Temperature\\nsensorLM35\\n3.3V\\n5V\\nGNDGNDHV1HV2HV\\nLVHV3\\nLV3LV3 LV1HV4\\nLV4LV4 LV2GND\\nGND\\nGNDVCCVORSR/WEDBDBDBDBDBDBDBDB01234567\\nNCPSB RSTVOUTBLABLK\\n1 20A0PG  0_10KΩ GND 5V25V2uF 220\\n25V2uF 220\\n25V2uF 220PIR\\nsensor\\nRed\\nGND\\nBlue\\nGreenPE  12_(Gas)\\nPF  9_\\nPF  7_\\nPF  8_\\nPG  1_(Dir1LS)\\n(Dir1)\\nPE  6_(Audio)\\n(DirLS)2\\n(Dir)2\\nPB  4_\\nPD  12_\\nPA0_(Red)(Blue)(Green)\\nLDRL 35M\\nPC  9_Buzzer\\n5V\\nDO1033.3V\\nSD card and\\nSD card readerGND\\nA\\nB\\nC\\nD871\\n42\\n53\\n6\\n9\\n0 #\\n5151\\n10K\\nJAPANFCCvRKingston\\n1\\nSDCS/32GB, 0.766061246)   \n",
       "2                                                                                                                                                                                                                                                                                                                                               (USAR Tn\\nbxCANnsmcard\\nirDA\\nFIFODigital\\nﬁlter\\nDACnAPB1 45 MHz (max)AHB1 180 MHzAHB3\\nVDD = 1.8 to 3.6V\\nVSS\\nVCAP1, VCAP2APB2 90 MHzART\\nACCEL/CACHE\\nGPIO POR TtOSC32_I N\\nOSC32_OUTDMA2USB\\nOTG HS\\n8 Streams\\nFIFODMA/\\nFIFO PHY\\nCHROM-AR T\\nDMA2DFIFO\\nFIFO8 Streams\\nFIFODMA1\\nLCD_R[7:0], LCD_G[7:0] ,\\nLCD_B[7:0], LCD_HSYNC,\\nLCD_VSYNC, LCD_DE,\\nLCD_CLKLCD-TFTDMA/\\nFIFO\\nRTC_AF1\\nRTC_AF1\\nRTC 50Hz\\n4KB BXPSRAMLS@ VBAT\\nRTC\\nAWU\\nBackup registerXTAL32 KHz\\nLSStandby\\ninterfaceIWDGXTALOSC 4-26 MHzPOR\\nreset\\nInt\\n@ VDDA @ VDDPVDPOR/PDR BORSupply\\nsupervision@ VDDVDD\\nVoltage regulator\\n3.3 to 1.2VPower\\nmanagement\\nPLL1, 2, 3RC    LSRC    HS@ VDDA\\nReset\\n& clock\\ncontrol\\nFigure 1.22 STM32F429ZI block diagram made using information available from [9]., 0.807931781)   \n",
       "6                                                                                              (List of Figures\\nxxxiv\\nFigure 1.19  Simplified diagram of the Cortex processor family. 33\\nFigure 1.20  Simplified diagram of the Cortex M0, M3, and M4 processors, and details of the \\ncorresponding cores. 34\\nFigure 1.21  Arm Cortex M0, M3, and M4 Instruction Set Architecture (ISA). 35\\nFigure 1.22  STM32F429ZI block diagram made using information available from [9]. 36\\nFigure 1.23  ST Zio connectors of the NUCLEO-F429ZI board. 37\\nFigure 1.24  Hierarchy of different elements introduced in this chapter. 38\\nFigure 1.25  “Smart door locks” built with Mbed contains elements introduced in  this chapter. 39\\nFigure 2.1  The smart home system is now connected to a PC. 45\\nFigure 2.2 Website with the program documentation generated with Doxygen. 57\\nFigure 2.3 Detailed description of functions and variables of the program that is  available on the website (Part 1/3). 57\\nFigure 2.4 Detailed description of functions and variables of the program that is  available on the website (Part 2/3). 58, 0.782090366)   \n",
       "4                                                                                                                                                          (//   commented//   See https://os.mbed.com/teams/ST/wiki/STDIO for more information.////==============================================================================\\nCode 8.1 Notes on the PinNames.h file of the NUCLEO-F429ZI  board.\\nCode 8.2 and Code 8.3 show the section of PinNames.h  regarding PWM pins. For example, on line 4 \\nof Code 8.2, it can be seen that PA_0 is related to PWM2 and channel 1 (channel 1 is indicated by \\nthe 1 that is the penultimate value of line 4), which is used to control the green LED  of the RGB LED \\n(see Figure 8.3). This “normal” functionality of PA_0 is shown in Figure 8.5. In line 1 of Code 8.3, it can be seen that PB_0 is related to PWM1 and channel 2, with inverted behavior (ultimate value 1 of line 1). Inverted behavior means that a logic true is set by a 0 V value, as was explained above. This functionality is also shown on Figure 8.5.\\n1\\n23456789\\n10111213141516171819202122//*** PWM ***, 0.788035452)   \n",
       "24  (UART5_TX\\nUART5_RX\\nPA_3\\nSPI1_MOSISPI3_SCK\\nSPI2_SCK\\nSPI4_SCK\\nSPI5_SCKSPI4_CSSPI3_MISO\\nSPI3_MOSI\\nSPI3_MOSI\\nSPI2_MOSI\\nPWM1/1NPWM2/4\\nPWM11/1PWM3/3\\nI2C3_SDA PWM3/4\\nA0\\nA1\\nA2\\nA3\\nA4\\nA5\\nADC3/6 PF_8 SPI5_MISO PWM /131\\nADC3/7 PF_9 SPI5_MOSI PWM /141PE_6 SPI4_MOSI PWM /29PE_5 SPI4_MISO PWM /91\\nUART _TX6\\nUART_X6R\\nUART_X1T\\nUART _RTS3\\nUART _CTS3\\nUART_X4T\\nUART_X8RUART _CTS2UART _3CTS\\nUART _TX6\\nUART_X6R\\nUART _TX7\\nUART_X7R\\nUART_X3RUART_X3TSPI4_SCKSPI2_MISOSPI1_MISOSPI1_SCKSPI1_CSSPI2_CS\\nSPI4_CS\\nSPI4_MISO\\nSPI6_MOSI\\nSPI4_SCK\\nSPI4_MOSI\\nSPI2_SCKSPI2_SCKSPI2_MOSI\\nSPI1_MOSI\\nSPI1_CS\\nI2C1_SCL CAN2_TDCAN2_RD\\nI2C2_SDAI2C2_SCLCAN2_TD\\nCAN2_RD\\nPWM2/1PWM4/1PWM4/1PWM1/3NPWM1/2\\nPWM1/3PWM1/1\\nPWM1/1N\\nPWM1/2N\\nPWM1/3N\\nPWM1/4\\nPWM2/3\\nPWM2/4PWM3/1PWM2/2PWM3/2PWM3/2PWM2/1PWM3/1\\nPWM1/3N\\nPWM1/1N\\nPWM4/2\\nPWM1/2N1\\n12\\n23\\n34\\n45\\n56\\n67\\n78\\n89\\n910\\n10\\n11\\n12\\n13\\n14\\n15\\n1617\\nPD_12\\nPE_2PD_11\\nPA_0\\nPB_0\\nPE_0PB_4\\nPD_13PA_4\\nPB_2PB_3PC_7\\nPB_5\\nPF_4PA_15\\nPC_2PB_12\\nPB_1PB_13\\nPB_6PB_1520\\n3019\\n29333418\\n283217\\n273116\\n2615\\n2514\\n2413\\n2312\\n2211\\n21\\n20\\n19\\n18, 0.765228748)   \n",
       "10                                                                                                                                                                                                                                                                       ({PA_7_ALT1,  PWM_8,  STM_PIN_DATA_EXT(STM_MODE_AF_PP, GPIO_NOPULL, GPIO_AF3_TIM8, 1, 1)},     {PA_7_ALT2,  PWM_14, STM_PIN_DATA_EXT(STM_MODE_AF_PP, GPIO_NOPULL, GPIO_AF9_TIM14, 1, 0)},     {PA_8,       PWM_1,  STM_PIN_DATA_EXT(STM_MODE_AF_PP, GPIO_NOPULL, GPIO_AF1_TIM1, 1, 0)},     {PA_9,       PWM_1,  STM_PIN_DATA_EXT(STM_MODE_AF_PP, GPIO_NOPULL, GPIO_AF1_TIM1, 2, 0)},     {PA_10,      PWM_1,  STM_PIN_DATA_EXT(STM_MODE_AF_PP, GPIO_NOPULL, GPIO_AF1_TIM1, 3, 0)},     {PA_11,      PWM_1,  STM_PIN_DATA_EXT(STM_MODE_AF_PP, GPIO_NOPULL, GPIO_AF1_TIM1, 4, 0)},     {PA_15,      PWM_2,  STM_PIN_DATA_EXT(STM_MODE_AF_P\\nP, GPIO_NOPULL, GPIO_AF1_TIM2,  1, 0)}, \\nCode 8.2 Notes on the PinNames.h file of the NUCLEO-F429ZI  board.\\nIt can be seen that PWM functionality is available as alternative functionality in more pins indicated as, 0.779308081)   \n",
       "17                                                                                                              (101112131415161718192021222324252627282930313233343536373839404142424344454647484950    {PB_0,       PWM_1,  STM_PIN_DATA_EXT(STM_MODE_AF_PP, GPIO_NOPULL, GPIO_AF1_TIM1, 4, 1)},     {PB_0_ALT0,  PWM_3,  STM_PIN_DATA_EXT(STM_MODE_AF_PP, GPIO_NOPULL, GPIO_AF2_TIM3, 3, 0)},     {PB_0_ALT1,  PWM_8,  STM_PIN_DATA_EXT(STM_MODE_AF_PP, GPIO_NOPULL, GPIO_AF3_TIM8, 2, 1)},     {PB_1,       PWM_1,  STM_PIN_DATA_EXT(STM_MODE_AF_PP, GPIO_NOPULL, GPIO_AF1_TIM1, 3, 1)},     {PB_1_ALT0,  PWM_3,  STM_PIN_DATA_EXT(STM_MODE_AF_PP, GPIO_NOPULL, GPIO_AF2_TIM3, 4, 0)},     {PB_1_ALT1,  PWM_8,  STM_PIN_DATA_EXT(STM_MODE_AF_PP, GPIO_NOPULL, GPIO_AF3_TIM8, 3, 1)},     {PB_3,       PWM_2,  STM_PIN_DATA_EXT(STM_MODE_AF_PP, GPIO_NOPULL, GPIO_AF1_TIM2, 2, 0)},     {PB_4,       PWM_3,  STM_PIN_DATA_EXT(STM_MODE_AF_PP, GPIO_NOPULL, GPIO_AF2_TIM3, 1, 0)},     {PB_5,       PWM_3,  STM_PIN_DATA_EXT(STM_MODE_AF_PP, GPIO_NOPULL, GPIO_AF2_TIM3, 2, 0)},     {PB_6,       PWM_4,  STM_PIN_DATA_EXT(STM_MODE_AF_PP,, 0.77209276)   \n",
       "3                                                                                     (337 , 388 , 455 , 506 , 508  \\n preprocessor directive 217  \\n processor xvi, xxii, xxvi, 33–35, 37, 38, 41, 44, 124 , 353 , 420 , 439  \\n project management 501  \\n Proyecto CIAA xiii, xxiii, xxiv, 443  \\n pull-down resistor 14, 23, 55, 111  \\n pull-up resistor 14, 15, 92, 253 , 255 , 521 , 522  \\n Pulse-Code Modulation (PCM) 354  \\n pulse-width modulation xxvii, 342 , 343 , 345 , 347 –351 , 353 –357 , 360 –362 , \\n 364 –367 , 379 , 380 , 383 –385 , 552\\nR Real Time Clock (RTC) 126 , 132 , 133 , 149 , 153 , 155 , 160 , 167 , 181 , 182 , 193 , 393 , 396  \\n reference operator 151 , 153 , 156 , 261 , 311 , 439  \\n relay module 296 , 299 , 301 , 336 –339 , 506 , 508 , 510 , 514 –516 , 530  \\n repository xxv, xxvi, xxvii, 10, 387 , 388 , 393 , 413 –415 , 416 , 417 , 503 , 546  \\n requirements 2, 497 , 498 , 501 –506 , 510 , 511 , 521 , 522 , 533 , 545 –548  \\n responsiveness 97 \\n RGB LED 342 –345 , 348 –350 , 356 , 357 , 360 –364 , 370 , 373 , 374 , 383 –385  \\n rising edge interrupts 320 , 323 , 324, 0.79098624)   \n",
       "18                                                                                                                                                                                                                                                                                                                                                                                                                                                                                                                                                                                                                                                                            (Chapter 12 | Guide to Designing and Implementing an Embedded System Project\\n553 References\\n[1] “NUCLEO-F429ZI | Mbed” . Accessed July 9, 2021. \\nhttps://os.mbed.com/platforms/ST-Nucleo-F429ZI/#zio-and-arduino-compatible-headers \\n[2] “GitHub - armBookCodeExamples/Directory” . Accessed July 9, 2021. https://github.com/armBookCodeExamples/Directory \\n[3] Pham, H. (1999). Software Reliability. John Wiley & Sons, Inc. p. 567. ISBN 9813083840., 0.767920196)   \n",
       "9                                                                                                                                 ([2] “HD44780U (LCD-II) (Dot Matrix Liquid Crystal Display Controller/Driver)” . Accessed July 9, 2021. https://www.sparkfun.com/datasheets/LCD/HD44780.pdf \\n[3] “GitHub - armBookCodeExamples/Directory” . Accessed July 9, 2021. https://github.com/armBookCodeExamples/Directory/  \\n[4] “NUCLEO-F429ZI | Mbed” . Accessed July 9, 2021. https://os.mbed.com/platforms/ST-Nucleo-F429ZI/ \\n[5] “ASCII | Wikipedia” . Accessed July 9, 2021. https://en.wikipedia.org/wiki/ASCII \\n[6] “I2C Serial Interface Adapter Module for LCD” . Accessed July 9, 2021. https://components101.com/modules/i2c-serial-interface-adapter-module \\n[7] “PCF8574 Remote 8-Bit I/O Expander for I2C Bus” . Accessed July 9, 2021. https://www.ti.com/lit/ds/symlink/pcf8574.pdf \\n[8] “Addressing - I2C Bus” . Accessed July 9, 2021. https://www.i2c-bus.org/addressing/ \\n[9] “ST7290 GLCD Pinout, Features, Interfacing & Datasheet” . Accessed July 9, 2021. https://components101.com/displays/st7290-graphical-lcd, 0.781493)   \n",
       "12                                                                                                                 (outputs, some fixed and some selectable. \\nWaRning: The selectable outputs should be configured as indicated in Figure 4.7. Otherwise, some modules may be harmed. \\nGND 3V3GND  V53V3     5V\\n3V3     5VVoltage\\nselectorsOutput\\nPowerFixed\\n5V\\nFixed\\n3.3VInput\\nPower\\noptions5V\\nMini\\nUSB-B\\n7 to 12 V\\nJackSelectable\\n5V or 3.3VSelectable\\n5V or 3.3V\\nFigure 4.7 Diagram of the MB102  module.\\n4.2.2 T est the Operation of the Matrix Keypad  and the RTC\\nThis subsection explains how to load a program onto the STM32 microcontroller in order to test if the matrix keypad that has been connected is working properly. It will also show how to configure the RTC of the STM32 microcontroller. The serial terminal will display the keys that are pressed on the matrix keypad, and the PC keyboard will be used to configure the date and time of the RTC. The .bin  file of the \\nprogram “Subsection 4.2.2” should be downloaded from the URL available in [4] and dragged onto the NUCLEO board., 0.774409235)   \n",
       "19                                                                                                                                                                                                                                                                                                                                                                                                                                                                                                                                                                                                                                                                                                                                                                                                                                                                                                                                                                 (M_14, STM_PIN_DATA_EXT(STM_MODE_AF_PP, GPIO_NOPULL, GPIO_AF9_TIM14,  1, 0)}, \\n    {NC, NC, 0}\\n}; \\nCode 8.3 Notes on the PinNames.h file of the NUCLEO-F429ZI  board., 0.766739786)   \n",
       "14                                                                (TIM / PWMn\\nTIMnTIM9\\nUSAR TnPort P [15:0] t\\nwith t =A to KArm Cortex-M4\\n180 Mhz\\nFPUCCM data RAM 64 KB\\nD-BUSNVICMPU\\nD-BUS\\nD-BUSArm Cortex-M4\\nProcessorETMJTAG & SW\\nEthernet MAC\\n10/100MII or RMII as AF\\nMDIO as AFExternal memory controller (FMC)\\nSRAM, SDRAM, PSRAM,\\nNOR Flash, PC Card, NAND Flash\\nUSB\\nOTG FSCamera\\ninterface2x\\n1MB Flash\\nSRAM\\n112, 16 & 64 KBRING\\nFIFOFIFO\\nPHY\\n16b\\n16b\\n16b\\nsmcard\\nirDA\\nSD, SCK, FS, MCLK as AFSPIn\\nADC1Temperature sensor\\nADC2I F\\nADC3SAI1APB2 90 MHzFIFO\\nTIMnWWDG\\n16b1 channela sAF\\nwith n = 13 or 144 channels, ETR as AF\\nwith n = 3 or 44 channels, ETR as AF\\n2 channels asAF4 channels\\nMOSI/SD, MISO/SD_ext,\\nSCK/CK, NSS/WS, MC K\\nasAFwith n = 2 or 3RX,T X as AF\\nwith n = 4, 5, 7 or 8\\nSCL, SDA, SMBA asAF\\nwith n = 1, 2 or 3RX,TX, CK, CST,  RTS\\nasAFwith n = 2 or 3\\nTX, RXwith n = 1 or 2\\nDAC _OUT asAF n\\nwith n = 1 or 2 ITFTIMnTIMn\\nTIM12TIM5TIM2\\nAHB/APB2DMA2 DMA1\\nAHB/APB1\\nSP/ 2SInnUAR Tn\\nI2C /SMBUSn16b16b\\n16b32b32b\\nUSAR Tn\\nbxCANnsmcard\\nirDA\\nFIFODigital\\nﬁlter, 0.774132073)   \n",
       "22                                                                                                             (MSTD_CONSTEXPR_OBJ_11 PinMap PinMap_PWM[] = {    {PA_0,       PWM_2, STM_PIN_DATA_EXT(STM_MODE_AF_PP, GPIO_NOPULL, GPIO_AF1_TIM2, 1, 0)},     {PA_1,       PWM_2, STM_PIN_DATA_EXT(STM_MODE_AF_PP, GPIO_NOPULL, GPIO_AF1_TIM2, 2, 0)},     {PA_2,       PWM_2, STM_PIN_DATA_EXT(STM_MODE_AF_PP, GPIO_NOPULL, GPIO_AF1_TIM2, 3, 0)},     {PA_2_ALT0,  PWM_9, STM_PIN_DATA_EXT(STM_MODE_AF_PP, GPIO_NOPULL, GPIO_AF3_TIM9, 1, 0)},     {PA_3,       PWM_2, STM_PIN_DATA_EXT(STM_MODE_AF_PP, GPIO_NOPULL, GPIO_AF1_TIM2, 4, 0)},     {PA_3_ALT0,  PWM_9, STM_PIN_DATA_EXT(STM_MODE_AF_PP, GPIO_NOPULL, GPIO_AF3_TIM9, 2, 0)},     {PA_5,       PWM_2, STM_PIN_DATA_EXT(STM_MODE_AF_PP, GPIO_NOPULL, GPIO_AF1_TIM2, 1, 0)},     {PA_5_ALT0,  PWM_8, STM_PIN_DATA_EXT(STM_MODE_AF_PP, GPIO_NOPULL, GPIO_AF3_TIM8, 1, 1)},     {PA_6,       PWM_3, STM_PIN_DATA_EXT(STM_MODE_AF_PP, GPIO_NOPULL, GPIO_AF2_TIM3, 1, 0)},     {PA_6_ALT0,  PWM_13, STM_PIN_DATA_EXT(STM_MODE_AF_PP, GPIO_NOPULL, GPIO_AF9_TIM13, 1, 0)},     {PA_7,, 0.765662611)   \n",
       "23                                                                                                                                                                                                                                                                                                                                                                                                                                                                                                                                                                                                                                                                                                                                                                                                                                                                                                                      (GPIO_AF9_TIM13, 1, 0)},     {PA_7,       PWM_1, STM_PIN_DATA_EXT(STM_MODE_AF_PP, GPIO_NOPULL, GPIO_AF1_TIM1, 1, 1)},     {PA_7_ALT0,  PWM_3,  STM_PIN_DATA_EXT(STM_MODE_AF_PP, GPIO_NOPULL, GPIO_AF2_TIM3, 2, 0)},, 0.765497625)   \n",
       "11                                                                                                                                                                                                                                                                        (1\\n23456789\\n101112typedef struct{    int address;    char data;    bool displayPinRs;    bool displayPinRw;     bool displayPinEn;    bool displayPinA;    bool displayPinD4;    bool displayPinD5;    bool displayPinD6;    bool displayPinD7;} pcf8574_t;\\nCode 6.23 New private data type used to implement the control of the LCD pins using the PCF8574 LCD module. \\nA private variable of type pcf8574_t  is declared in display.cpp, as shown in Code 6.24.\\n1static pcf8574_t pcf8574;\\nCode 6.24 Declaration of a private variable of type pcf8574_t. \\nThe implementation of displayInit()  is shown in Code 6.25 and Code 6.26. In line 3 of Code 6.25,  \\ndisplay.connection  is assigned and in line 5 it is evaluated to establish if it is equal to  \\nDISPLAY_CONNECTION_I2C_PCF8574_IO_EXPANDER. If so, pcf8574.address and pcf8574.data  are, 0.778919339)   \n",
       "16                                                                                                                                                           (152\\nA Beginner’s Guide to Designing Embedded System Applications1\\n23456789\\n10111213141516171819202122232425262728293031323334353637383940414243444546474849505152535455565758596061626364case 's':case 'S':    struct tm rtcTime;    int strIndex;                uartUsb.write( \"\\r\\nType four digits for the current year (YYYY): \" , 48 );\\n    for( strIndex=0; strIndex<4; strIndex++ ) {        uartUsb.read( &str[strIndex] , 1 );        uartUsb.write( &str[strIndex] ,1 );    }    str[4] = '\\0';    rtcTime.tm_year = atoi(str) - 1900;    uartUsb.write( \"\\r\\n\", 2 );\\n    uartUsb.write( \"Type two digits for the current month (01-12): \", 47 );\\n    for( strIndex=0; strIndex<2; strIndex++ ) {        uartUsb.read( &str[strIndex] , 1 );        uartUsb.write( &str[strIndex] ,1 );    }    str[2] = '\\0';    rtcTime.tm_mon  = atoi(str) - 1;    uartUsb.write( \"\\r\\n\", 2 );\\n    uartUsb.write( \"Type two digits for the current day (01-31): \", 45 );, 0.773555934)   \n",
       "20                                                                                                                                                                                                                                                                                   (2 (The same elements are used as in Chapter 1.) –\\n3LM35 temperature sensor 1\\n10 kΩ potentiometer 2\\nMQ-2 gas sensor 1\\n5V buzzer 1\\nResistors: 100 Ω, 150 Ω, 330 Ω, 1 kΩ, 10 kΩ, 47 kΩ, 100 kΩ \\n(100 kΩ are used in this chapter and the other resistors in different chapters. See note below.) 10 of each value\\nJumper wires (male–female) 80\\n4Matrix keypad (4 × 4) 1\\n90-degrees 2.54 mm (.1”) pitch pin header 40\\nMB102 breadboard power supply  \\n(One is used in this chapter and the other in Chapter 7.) 2\\nUSB–mini-USB cable 2\\n5BC548C NPN transistor (One is used in this chapter and the other in Chapter 8.) 2\\n6Character-based LCD display 20 × 4, based on HD44780 1\\nI2C PCF8574 expander 1\\n10 kΩ trimpot 1\\nBidirectional logic level converter 1\\nJumper wires (female–female) 40\\nGraphic LCD display, based on ST7920 1, 0.766438544)   \n",
       "13                                                                                                                                                                                                                                                                                                                                                                                                                                                                                                                                                                                                                                                                                                                                                                                                                                                                                                                                                                         ([10] “ST7920 Chinese Fonts built in LCD controller/driver” . Accessed July 9, 2021. https://pdf1.alldatasheet.es/datasheet-pdf/view/326219/SITRONIX/ST7920.html, 0.774318695)   \n",
       "\n",
       "       Score  \n",
       "5   4.998557  \n",
       "0   0.283747  \n",
       "15  0.236537  \n",
       "1  -0.658202  \n",
       "8  -0.959287  \n",
       "7  -1.543990  \n",
       "21 -2.066066  \n",
       "2  -3.935900  \n",
       "6  -5.124876  \n",
       "4  -5.264961  \n",
       "24 -5.368915  \n",
       "10 -5.507993  \n",
       "17 -5.671560  \n",
       "3  -6.078181  \n",
       "18 -6.971182  \n",
       "9  -7.042024  \n",
       "12 -7.134541  \n",
       "19 -7.249991  \n",
       "14 -7.423570  \n",
       "22 -7.483180  \n",
       "23 -7.791863  \n",
       "11 -8.350111  \n",
       "16 -8.951775  \n",
       "20 -9.102522  \n",
       "13 -9.436647  "
      ]
     },
     "execution_count": 18,
     "metadata": {},
     "output_type": "execute_result"
    }
   ],
   "source": [
    "scores_for_all_25_documents.sort_values(by=[\"Score\"], ascending=False)"
   ]
  },
  {
   "cell_type": "markdown",
   "metadata": {},
   "source": [
    "From the score table above, we can observe that the top result (2nd row, index 0) returned by cosine distance is not as relevant compared to the first row (index 5). However, without reranking, the text at index 5 did not even make it into the top 3 when we only performed cosine distance retrieval directly from the vector database."
   ]
  },
  {
   "cell_type": "code",
   "execution_count": null,
   "metadata": {},
   "outputs": [],
   "source": []
  }
 ],
 "metadata": {
  "kernelspec": {
   "display_name": "rag-retrieval-rerank-_oC8k4Cq-py3.10",
   "language": "python",
   "name": "python3"
  },
  "language_info": {
   "codemirror_mode": {
    "name": "ipython",
    "version": 3
   },
   "file_extension": ".py",
   "mimetype": "text/x-python",
   "name": "python",
   "nbconvert_exporter": "python",
   "pygments_lexer": "ipython3",
   "version": "3.10.7"
  }
 },
 "nbformat": 4,
 "nbformat_minor": 2
}
